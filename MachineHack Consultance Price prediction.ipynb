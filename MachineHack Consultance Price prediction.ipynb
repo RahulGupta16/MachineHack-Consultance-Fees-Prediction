{
 "cells": [
  {
   "cell_type": "code",
   "execution_count": 198,
   "metadata": {},
   "outputs": [],
   "source": [
    "import re\n",
    "import pandas as pd\n",
    "import numpy as np\n",
    "import matplotlib.pyplot as plt\n",
    "import seaborn as sns\n",
    "from sklearn.preprocessing import Imputer,LabelEncoder,StandardScaler,OneHotEncoder,MinMaxScaler\n",
    "from sklearn.model_selection import train_test_split,cross_val_score,cross_val_predict,GridSearchCV\n",
    "from sklearn.metrics import accuracy_score,confusion_matrix,f1_score,mean_squared_log_error,roc_curve,precision_recall_curve\n",
    "from sklearn.linear_model import LinearRegression,Ridge,Lasso\n",
    "from sklearn.tree import DecisionTreeRegressor\n",
    "from sklearn.svm import SVR\n",
    "from sklearn.ensemble import RandomForestRegressor,AdaBoostRegressor,ExtraTreesRegressor,GradientBoostingRegressor"
   ]
  },
  {
   "cell_type": "code",
   "execution_count": 199,
   "metadata": {},
   "outputs": [],
   "source": [
    "train1=pd.read_excel(r'C:\\Users\\Rahul\\Desktop\\ML\\Final_Train.xlsx')\n",
    "test1=pd.read_excel(r'C:\\Users\\Rahul\\Desktop\\ML\\Final_Test.xlsx')"
   ]
  },
  {
   "cell_type": "code",
   "execution_count": 200,
   "metadata": {
    "scrolled": false
   },
   "outputs": [
    {
     "data": {
      "text/html": [
       "<div>\n",
       "<style scoped>\n",
       "    .dataframe tbody tr th:only-of-type {\n",
       "        vertical-align: middle;\n",
       "    }\n",
       "\n",
       "    .dataframe tbody tr th {\n",
       "        vertical-align: top;\n",
       "    }\n",
       "\n",
       "    .dataframe thead th {\n",
       "        text-align: right;\n",
       "    }\n",
       "</style>\n",
       "<table border=\"1\" class=\"dataframe\">\n",
       "  <thead>\n",
       "    <tr style=\"text-align: right;\">\n",
       "      <th></th>\n",
       "      <th>Qualification</th>\n",
       "      <th>Experience</th>\n",
       "      <th>Rating</th>\n",
       "      <th>Place</th>\n",
       "      <th>Profile</th>\n",
       "      <th>Miscellaneous_Info</th>\n",
       "      <th>Fees</th>\n",
       "    </tr>\n",
       "  </thead>\n",
       "  <tbody>\n",
       "    <tr>\n",
       "      <th>0</th>\n",
       "      <td>BHMS, MD - Homeopathy</td>\n",
       "      <td>24 years experience</td>\n",
       "      <td>100%</td>\n",
       "      <td>Kakkanad, Ernakulam</td>\n",
       "      <td>Homeopath</td>\n",
       "      <td>100% 16 Feedback Kakkanad, Ernakulam</td>\n",
       "      <td>100</td>\n",
       "    </tr>\n",
       "    <tr>\n",
       "      <th>1</th>\n",
       "      <td>BAMS, MD - Ayurveda Medicine</td>\n",
       "      <td>12 years experience</td>\n",
       "      <td>98%</td>\n",
       "      <td>Whitefield, Bangalore</td>\n",
       "      <td>Ayurveda</td>\n",
       "      <td>98% 76 Feedback Whitefield, Bangalore</td>\n",
       "      <td>350</td>\n",
       "    </tr>\n",
       "    <tr>\n",
       "      <th>2</th>\n",
       "      <td>MBBS, MS - Otorhinolaryngology</td>\n",
       "      <td>9 years experience</td>\n",
       "      <td>NaN</td>\n",
       "      <td>Mathikere - BEL, Bangalore</td>\n",
       "      <td>ENT Specialist</td>\n",
       "      <td>NaN</td>\n",
       "      <td>300</td>\n",
       "    </tr>\n",
       "    <tr>\n",
       "      <th>3</th>\n",
       "      <td>BSc - Zoology, BAMS</td>\n",
       "      <td>12 years experience</td>\n",
       "      <td>NaN</td>\n",
       "      <td>Bannerghatta Road, Bangalore</td>\n",
       "      <td>Ayurveda</td>\n",
       "      <td>Bannerghatta Road, Bangalore ₹250 Available on...</td>\n",
       "      <td>250</td>\n",
       "    </tr>\n",
       "    <tr>\n",
       "      <th>4</th>\n",
       "      <td>BAMS</td>\n",
       "      <td>20 years experience</td>\n",
       "      <td>100%</td>\n",
       "      <td>Keelkattalai, Chennai</td>\n",
       "      <td>Ayurveda</td>\n",
       "      <td>100% 4 Feedback Keelkattalai, Chennai</td>\n",
       "      <td>250</td>\n",
       "    </tr>\n",
       "  </tbody>\n",
       "</table>\n",
       "</div>"
      ],
      "text/plain": [
       "                    Qualification           Experience Rating  \\\n",
       "0           BHMS, MD - Homeopathy  24 years experience   100%   \n",
       "1    BAMS, MD - Ayurveda Medicine  12 years experience    98%   \n",
       "2  MBBS, MS - Otorhinolaryngology   9 years experience    NaN   \n",
       "3             BSc - Zoology, BAMS  12 years experience    NaN   \n",
       "4                            BAMS  20 years experience   100%   \n",
       "\n",
       "                          Place         Profile  \\\n",
       "0           Kakkanad, Ernakulam       Homeopath   \n",
       "1         Whitefield, Bangalore        Ayurveda   \n",
       "2    Mathikere - BEL, Bangalore  ENT Specialist   \n",
       "3  Bannerghatta Road, Bangalore        Ayurveda   \n",
       "4         Keelkattalai, Chennai        Ayurveda   \n",
       "\n",
       "                                  Miscellaneous_Info  Fees  \n",
       "0               100% 16 Feedback Kakkanad, Ernakulam   100  \n",
       "1              98% 76 Feedback Whitefield, Bangalore   350  \n",
       "2                                                NaN   300  \n",
       "3  Bannerghatta Road, Bangalore ₹250 Available on...   250  \n",
       "4              100% 4 Feedback Keelkattalai, Chennai   250  "
      ]
     },
     "execution_count": 200,
     "metadata": {},
     "output_type": "execute_result"
    }
   ],
   "source": [
    "train1.head()"
   ]
  },
  {
   "cell_type": "code",
   "execution_count": 201,
   "metadata": {},
   "outputs": [
    {
     "data": {
      "text/plain": [
       "Dentist             1397\n",
       "General Medicine    1173\n",
       "Dermatologists      1034\n",
       "Homeopath            843\n",
       "Ayurveda             786\n",
       "ENT Specialist       728\n",
       "Name: Profile, dtype: int64"
      ]
     },
     "execution_count": 201,
     "metadata": {},
     "output_type": "execute_result"
    }
   ],
   "source": [
    "train1.Profile.value_counts()"
   ]
  },
  {
   "cell_type": "code",
   "execution_count": 202,
   "metadata": {
    "scrolled": false
   },
   "outputs": [
    {
     "name": "stdout",
     "output_type": "stream",
     "text": [
      "<class 'pandas.core.frame.DataFrame'>\n",
      "RangeIndex: 5961 entries, 0 to 5960\n",
      "Data columns (total 7 columns):\n",
      "Qualification         5961 non-null object\n",
      "Experience            5961 non-null object\n",
      "Rating                2659 non-null object\n",
      "Place                 5936 non-null object\n",
      "Profile               5961 non-null object\n",
      "Miscellaneous_Info    3341 non-null object\n",
      "Fees                  5961 non-null int64\n",
      "dtypes: int64(1), object(6)\n",
      "memory usage: 326.1+ KB\n"
     ]
    }
   ],
   "source": [
    "train1.info()"
   ]
  },
  {
   "cell_type": "code",
   "execution_count": 203,
   "metadata": {
    "scrolled": false
   },
   "outputs": [
    {
     "data": {
      "text/html": [
       "<div>\n",
       "<style scoped>\n",
       "    .dataframe tbody tr th:only-of-type {\n",
       "        vertical-align: middle;\n",
       "    }\n",
       "\n",
       "    .dataframe tbody tr th {\n",
       "        vertical-align: top;\n",
       "    }\n",
       "\n",
       "    .dataframe thead th {\n",
       "        text-align: right;\n",
       "    }\n",
       "</style>\n",
       "<table border=\"1\" class=\"dataframe\">\n",
       "  <thead>\n",
       "    <tr style=\"text-align: right;\">\n",
       "      <th></th>\n",
       "      <th>Qualification</th>\n",
       "      <th>Experience</th>\n",
       "      <th>Rating</th>\n",
       "      <th>Place</th>\n",
       "      <th>Profile</th>\n",
       "      <th>Miscellaneous_Info</th>\n",
       "    </tr>\n",
       "  </thead>\n",
       "  <tbody>\n",
       "    <tr>\n",
       "      <th>0</th>\n",
       "      <td>MBBS</td>\n",
       "      <td>35 years experience</td>\n",
       "      <td>NaN</td>\n",
       "      <td>Ghatkopar East, Mumbai</td>\n",
       "      <td>General Medicine</td>\n",
       "      <td>NaN</td>\n",
       "    </tr>\n",
       "    <tr>\n",
       "      <th>1</th>\n",
       "      <td>MBBS, Diploma in Otorhinolaryngology (DLO)</td>\n",
       "      <td>31 years experience</td>\n",
       "      <td>NaN</td>\n",
       "      <td>West Marredpally, Hyderabad</td>\n",
       "      <td>ENT Specialist</td>\n",
       "      <td>NaN</td>\n",
       "    </tr>\n",
       "  </tbody>\n",
       "</table>\n",
       "</div>"
      ],
      "text/plain": [
       "                                Qualification           Experience Rating  \\\n",
       "0                                        MBBS  35 years experience    NaN   \n",
       "1  MBBS, Diploma in Otorhinolaryngology (DLO)  31 years experience    NaN   \n",
       "\n",
       "                         Place           Profile Miscellaneous_Info  \n",
       "0       Ghatkopar East, Mumbai  General Medicine                NaN  \n",
       "1  West Marredpally, Hyderabad    ENT Specialist                NaN  "
      ]
     },
     "execution_count": 203,
     "metadata": {},
     "output_type": "execute_result"
    }
   ],
   "source": [
    "test1.head(2)"
   ]
  },
  {
   "cell_type": "code",
   "execution_count": 204,
   "metadata": {},
   "outputs": [
    {
     "name": "stdout",
     "output_type": "stream",
     "text": [
      "<class 'pandas.core.frame.DataFrame'>\n",
      "RangeIndex: 5961 entries, 0 to 5960\n",
      "Data columns (total 7 columns):\n",
      "Qualification         5961 non-null object\n",
      "Experience            5961 non-null object\n",
      "Rating                2659 non-null object\n",
      "Place                 5936 non-null object\n",
      "Profile               5961 non-null object\n",
      "Miscellaneous_Info    3341 non-null object\n",
      "Fees                  5961 non-null int64\n",
      "dtypes: int64(1), object(6)\n",
      "memory usage: 326.1+ KB\n"
     ]
    }
   ],
   "source": [
    "train1.info()"
   ]
  },
  {
   "cell_type": "code",
   "execution_count": 205,
   "metadata": {},
   "outputs": [
    {
     "name": "stdout",
     "output_type": "stream",
     "text": [
      "<class 'pandas.core.frame.DataFrame'>\n",
      "RangeIndex: 1987 entries, 0 to 1986\n",
      "Data columns (total 6 columns):\n",
      "Qualification         1987 non-null object\n",
      "Experience            1987 non-null object\n",
      "Rating                897 non-null object\n",
      "Place                 1981 non-null object\n",
      "Profile               1987 non-null object\n",
      "Miscellaneous_Info    1153 non-null object\n",
      "dtypes: object(6)\n",
      "memory usage: 93.2+ KB\n"
     ]
    }
   ],
   "source": [
    "test1.info()"
   ]
  },
  {
   "cell_type": "code",
   "execution_count": 206,
   "metadata": {},
   "outputs": [
    {
     "data": {
      "text/html": [
       "<div>\n",
       "<style scoped>\n",
       "    .dataframe tbody tr th:only-of-type {\n",
       "        vertical-align: middle;\n",
       "    }\n",
       "\n",
       "    .dataframe tbody tr th {\n",
       "        vertical-align: top;\n",
       "    }\n",
       "\n",
       "    .dataframe thead th {\n",
       "        text-align: right;\n",
       "    }\n",
       "</style>\n",
       "<table border=\"1\" class=\"dataframe\">\n",
       "  <thead>\n",
       "    <tr style=\"text-align: right;\">\n",
       "      <th></th>\n",
       "      <th>Fees</th>\n",
       "    </tr>\n",
       "  </thead>\n",
       "  <tbody>\n",
       "    <tr>\n",
       "      <th>count</th>\n",
       "      <td>5961.000000</td>\n",
       "    </tr>\n",
       "    <tr>\n",
       "      <th>mean</th>\n",
       "      <td>307.944640</td>\n",
       "    </tr>\n",
       "    <tr>\n",
       "      <th>std</th>\n",
       "      <td>190.920373</td>\n",
       "    </tr>\n",
       "    <tr>\n",
       "      <th>min</th>\n",
       "      <td>5.000000</td>\n",
       "    </tr>\n",
       "    <tr>\n",
       "      <th>25%</th>\n",
       "      <td>150.000000</td>\n",
       "    </tr>\n",
       "    <tr>\n",
       "      <th>50%</th>\n",
       "      <td>300.000000</td>\n",
       "    </tr>\n",
       "    <tr>\n",
       "      <th>75%</th>\n",
       "      <td>500.000000</td>\n",
       "    </tr>\n",
       "    <tr>\n",
       "      <th>max</th>\n",
       "      <td>950.000000</td>\n",
       "    </tr>\n",
       "  </tbody>\n",
       "</table>\n",
       "</div>"
      ],
      "text/plain": [
       "              Fees\n",
       "count  5961.000000\n",
       "mean    307.944640\n",
       "std     190.920373\n",
       "min       5.000000\n",
       "25%     150.000000\n",
       "50%     300.000000\n",
       "75%     500.000000\n",
       "max     950.000000"
      ]
     },
     "execution_count": 206,
     "metadata": {},
     "output_type": "execute_result"
    }
   ],
   "source": [
    "train1.describe()"
   ]
  },
  {
   "cell_type": "code",
   "execution_count": 207,
   "metadata": {},
   "outputs": [
    {
     "data": {
      "text/html": [
       "<div>\n",
       "<style scoped>\n",
       "    .dataframe tbody tr th:only-of-type {\n",
       "        vertical-align: middle;\n",
       "    }\n",
       "\n",
       "    .dataframe tbody tr th {\n",
       "        vertical-align: top;\n",
       "    }\n",
       "\n",
       "    .dataframe thead th {\n",
       "        text-align: right;\n",
       "    }\n",
       "</style>\n",
       "<table border=\"1\" class=\"dataframe\">\n",
       "  <thead>\n",
       "    <tr style=\"text-align: right;\">\n",
       "      <th></th>\n",
       "      <th>Qualification</th>\n",
       "      <th>Experience</th>\n",
       "      <th>Rating</th>\n",
       "      <th>Place</th>\n",
       "      <th>Profile</th>\n",
       "      <th>Miscellaneous_Info</th>\n",
       "    </tr>\n",
       "  </thead>\n",
       "  <tbody>\n",
       "    <tr>\n",
       "      <th>count</th>\n",
       "      <td>1987</td>\n",
       "      <td>1987</td>\n",
       "      <td>897</td>\n",
       "      <td>1981</td>\n",
       "      <td>1987</td>\n",
       "      <td>1153</td>\n",
       "    </tr>\n",
       "    <tr>\n",
       "      <th>unique</th>\n",
       "      <td>630</td>\n",
       "      <td>57</td>\n",
       "      <td>36</td>\n",
       "      <td>592</td>\n",
       "      <td>6</td>\n",
       "      <td>1084</td>\n",
       "    </tr>\n",
       "    <tr>\n",
       "      <th>top</th>\n",
       "      <td>BAMS</td>\n",
       "      <td>10 years experience</td>\n",
       "      <td>100%</td>\n",
       "      <td>Mulund West, Mumbai</td>\n",
       "      <td>General Medicine</td>\n",
       "      <td>Acrylic Partial Denture Crowns and Bridges Fix...</td>\n",
       "    </tr>\n",
       "    <tr>\n",
       "      <th>freq</th>\n",
       "      <td>153</td>\n",
       "      <td>110</td>\n",
       "      <td>223</td>\n",
       "      <td>27</td>\n",
       "      <td>444</td>\n",
       "      <td>10</td>\n",
       "    </tr>\n",
       "  </tbody>\n",
       "</table>\n",
       "</div>"
      ],
      "text/plain": [
       "       Qualification           Experience Rating                Place  \\\n",
       "count           1987                 1987    897                 1981   \n",
       "unique           630                   57     36                  592   \n",
       "top             BAMS  10 years experience   100%  Mulund West, Mumbai   \n",
       "freq             153                  110    223                   27   \n",
       "\n",
       "                 Profile                                 Miscellaneous_Info  \n",
       "count               1987                                               1153  \n",
       "unique                 6                                               1084  \n",
       "top     General Medicine  Acrylic Partial Denture Crowns and Bridges Fix...  \n",
       "freq                 444                                                 10  "
      ]
     },
     "execution_count": 207,
     "metadata": {},
     "output_type": "execute_result"
    }
   ],
   "source": [
    "test1.describe()"
   ]
  },
  {
   "cell_type": "code",
   "execution_count": 208,
   "metadata": {},
   "outputs": [
    {
     "data": {
      "text/plain": [
       "Qualification            0\n",
       "Experience               0\n",
       "Rating                3302\n",
       "Place                   25\n",
       "Profile                  0\n",
       "Miscellaneous_Info    2620\n",
       "Fees                     0\n",
       "dtype: int64"
      ]
     },
     "execution_count": 208,
     "metadata": {},
     "output_type": "execute_result"
    }
   ],
   "source": [
    "train1.isnull().sum()"
   ]
  },
  {
   "cell_type": "code",
   "execution_count": 209,
   "metadata": {},
   "outputs": [
    {
     "data": {
      "text/plain": [
       "Qualification            0\n",
       "Experience               0\n",
       "Rating                1090\n",
       "Place                    6\n",
       "Profile                  0\n",
       "Miscellaneous_Info     834\n",
       "dtype: int64"
      ]
     },
     "execution_count": 209,
     "metadata": {},
     "output_type": "execute_result"
    }
   ],
   "source": [
    "test1.isnull().sum()"
   ]
  },
  {
   "cell_type": "code",
   "execution_count": 210,
   "metadata": {},
   "outputs": [],
   "source": [
    "train1['Rating'].replace('(%)','',regex=True,inplace=True)\n",
    "test1['Rating'].replace('(%)','',regex=True,inplace=True)"
   ]
  },
  {
   "cell_type": "code",
   "execution_count": 211,
   "metadata": {
    "scrolled": false
   },
   "outputs": [
    {
     "data": {
      "text/html": [
       "<div>\n",
       "<style scoped>\n",
       "    .dataframe tbody tr th:only-of-type {\n",
       "        vertical-align: middle;\n",
       "    }\n",
       "\n",
       "    .dataframe tbody tr th {\n",
       "        vertical-align: top;\n",
       "    }\n",
       "\n",
       "    .dataframe thead th {\n",
       "        text-align: right;\n",
       "    }\n",
       "</style>\n",
       "<table border=\"1\" class=\"dataframe\">\n",
       "  <thead>\n",
       "    <tr style=\"text-align: right;\">\n",
       "      <th></th>\n",
       "      <th>Qualification</th>\n",
       "      <th>Experience</th>\n",
       "      <th>Rating</th>\n",
       "      <th>Place</th>\n",
       "      <th>Profile</th>\n",
       "      <th>Miscellaneous_Info</th>\n",
       "      <th>Fees</th>\n",
       "    </tr>\n",
       "  </thead>\n",
       "  <tbody>\n",
       "    <tr>\n",
       "      <th>0</th>\n",
       "      <td>BHMS, MD - Homeopathy</td>\n",
       "      <td>24 years experience</td>\n",
       "      <td>100</td>\n",
       "      <td>Kakkanad, Ernakulam</td>\n",
       "      <td>Homeopath</td>\n",
       "      <td>100% 16 Feedback Kakkanad, Ernakulam</td>\n",
       "      <td>100</td>\n",
       "    </tr>\n",
       "    <tr>\n",
       "      <th>1</th>\n",
       "      <td>BAMS, MD - Ayurveda Medicine</td>\n",
       "      <td>12 years experience</td>\n",
       "      <td>98</td>\n",
       "      <td>Whitefield, Bangalore</td>\n",
       "      <td>Ayurveda</td>\n",
       "      <td>98% 76 Feedback Whitefield, Bangalore</td>\n",
       "      <td>350</td>\n",
       "    </tr>\n",
       "    <tr>\n",
       "      <th>2</th>\n",
       "      <td>MBBS, MS - Otorhinolaryngology</td>\n",
       "      <td>9 years experience</td>\n",
       "      <td>NaN</td>\n",
       "      <td>Mathikere - BEL, Bangalore</td>\n",
       "      <td>ENT Specialist</td>\n",
       "      <td>NaN</td>\n",
       "      <td>300</td>\n",
       "    </tr>\n",
       "    <tr>\n",
       "      <th>3</th>\n",
       "      <td>BSc - Zoology, BAMS</td>\n",
       "      <td>12 years experience</td>\n",
       "      <td>NaN</td>\n",
       "      <td>Bannerghatta Road, Bangalore</td>\n",
       "      <td>Ayurveda</td>\n",
       "      <td>Bannerghatta Road, Bangalore ₹250 Available on...</td>\n",
       "      <td>250</td>\n",
       "    </tr>\n",
       "    <tr>\n",
       "      <th>4</th>\n",
       "      <td>BAMS</td>\n",
       "      <td>20 years experience</td>\n",
       "      <td>100</td>\n",
       "      <td>Keelkattalai, Chennai</td>\n",
       "      <td>Ayurveda</td>\n",
       "      <td>100% 4 Feedback Keelkattalai, Chennai</td>\n",
       "      <td>250</td>\n",
       "    </tr>\n",
       "  </tbody>\n",
       "</table>\n",
       "</div>"
      ],
      "text/plain": [
       "                    Qualification           Experience Rating  \\\n",
       "0           BHMS, MD - Homeopathy  24 years experience    100   \n",
       "1    BAMS, MD - Ayurveda Medicine  12 years experience     98   \n",
       "2  MBBS, MS - Otorhinolaryngology   9 years experience    NaN   \n",
       "3             BSc - Zoology, BAMS  12 years experience    NaN   \n",
       "4                            BAMS  20 years experience    100   \n",
       "\n",
       "                          Place         Profile  \\\n",
       "0           Kakkanad, Ernakulam       Homeopath   \n",
       "1         Whitefield, Bangalore        Ayurveda   \n",
       "2    Mathikere - BEL, Bangalore  ENT Specialist   \n",
       "3  Bannerghatta Road, Bangalore        Ayurveda   \n",
       "4         Keelkattalai, Chennai        Ayurveda   \n",
       "\n",
       "                                  Miscellaneous_Info  Fees  \n",
       "0               100% 16 Feedback Kakkanad, Ernakulam   100  \n",
       "1              98% 76 Feedback Whitefield, Bangalore   350  \n",
       "2                                                NaN   300  \n",
       "3  Bannerghatta Road, Bangalore ₹250 Available on...   250  \n",
       "4              100% 4 Feedback Keelkattalai, Chennai   250  "
      ]
     },
     "execution_count": 211,
     "metadata": {},
     "output_type": "execute_result"
    }
   ],
   "source": [
    "train1.head()"
   ]
  },
  {
   "cell_type": "code",
   "execution_count": 212,
   "metadata": {},
   "outputs": [
    {
     "data": {
      "text/plain": [
       "dtype('O')"
      ]
     },
     "execution_count": 212,
     "metadata": {},
     "output_type": "execute_result"
    }
   ],
   "source": [
    "train1.Rating.dtype"
   ]
  },
  {
   "cell_type": "code",
   "execution_count": 213,
   "metadata": {},
   "outputs": [],
   "source": [
    "train1.Rating=train1.Rating.astype('float32')\n",
    "test1.Rating=test1.Rating.astype('float32')"
   ]
  },
  {
   "cell_type": "code",
   "execution_count": 214,
   "metadata": {},
   "outputs": [],
   "source": [
    "train1['Place']=train1['Place'].str.extract(r'.* (.*)')\n",
    "test1['Place']=test1['Place'].str.extract(r'.* (.*)')"
   ]
  },
  {
   "cell_type": "code",
   "execution_count": 215,
   "metadata": {},
   "outputs": [],
   "source": [
    "train1['Qualification_No.'] = train1.Qualification.apply(lambda x: len((str(x).split(','))))\n",
    "test1['Qualification_No.'] = test1.Qualification.apply(lambda x: len((str(x).split(','))))"
   ]
  },
  {
   "cell_type": "code",
   "execution_count": 216,
   "metadata": {},
   "outputs": [],
   "source": [
    "train1['Experience']=train1['Experience'].str.extract(r'(^\\d{1,2}) .*')\n",
    "test1['Experience']=test1['Experience'].str.extract(r'(^\\d{1,2}) .*')"
   ]
  },
  {
   "cell_type": "code",
   "execution_count": 217,
   "metadata": {},
   "outputs": [],
   "source": [
    "train1.Experience=train1.Experience.astype('int64')\n",
    "test1.Experience=test1.Experience.astype('int64')"
   ]
  },
  {
   "cell_type": "code",
   "execution_count": null,
   "metadata": {},
   "outputs": [],
   "source": []
  },
  {
   "cell_type": "code",
   "execution_count": 218,
   "metadata": {},
   "outputs": [
    {
     "data": {
      "text/html": [
       "<div>\n",
       "<style scoped>\n",
       "    .dataframe tbody tr th:only-of-type {\n",
       "        vertical-align: middle;\n",
       "    }\n",
       "\n",
       "    .dataframe tbody tr th {\n",
       "        vertical-align: top;\n",
       "    }\n",
       "\n",
       "    .dataframe thead th {\n",
       "        text-align: right;\n",
       "    }\n",
       "</style>\n",
       "<table border=\"1\" class=\"dataframe\">\n",
       "  <thead>\n",
       "    <tr style=\"text-align: right;\">\n",
       "      <th></th>\n",
       "      <th>Qualification</th>\n",
       "      <th>Experience</th>\n",
       "      <th>Rating</th>\n",
       "      <th>Place</th>\n",
       "      <th>Profile</th>\n",
       "      <th>Miscellaneous_Info</th>\n",
       "      <th>Fees</th>\n",
       "      <th>Qualification_No.</th>\n",
       "    </tr>\n",
       "  </thead>\n",
       "  <tbody>\n",
       "    <tr>\n",
       "      <th>0</th>\n",
       "      <td>BHMS, MD - Homeopathy</td>\n",
       "      <td>24</td>\n",
       "      <td>100.0</td>\n",
       "      <td>Ernakulam</td>\n",
       "      <td>Homeopath</td>\n",
       "      <td>100% 16 Feedback Kakkanad, Ernakulam</td>\n",
       "      <td>100</td>\n",
       "      <td>2</td>\n",
       "    </tr>\n",
       "    <tr>\n",
       "      <th>1</th>\n",
       "      <td>BAMS, MD - Ayurveda Medicine</td>\n",
       "      <td>12</td>\n",
       "      <td>98.0</td>\n",
       "      <td>Bangalore</td>\n",
       "      <td>Ayurveda</td>\n",
       "      <td>98% 76 Feedback Whitefield, Bangalore</td>\n",
       "      <td>350</td>\n",
       "      <td>2</td>\n",
       "    </tr>\n",
       "    <tr>\n",
       "      <th>2</th>\n",
       "      <td>MBBS, MS - Otorhinolaryngology</td>\n",
       "      <td>9</td>\n",
       "      <td>NaN</td>\n",
       "      <td>Bangalore</td>\n",
       "      <td>ENT Specialist</td>\n",
       "      <td>NaN</td>\n",
       "      <td>300</td>\n",
       "      <td>2</td>\n",
       "    </tr>\n",
       "    <tr>\n",
       "      <th>3</th>\n",
       "      <td>BSc - Zoology, BAMS</td>\n",
       "      <td>12</td>\n",
       "      <td>NaN</td>\n",
       "      <td>Bangalore</td>\n",
       "      <td>Ayurveda</td>\n",
       "      <td>Bannerghatta Road, Bangalore ₹250 Available on...</td>\n",
       "      <td>250</td>\n",
       "      <td>2</td>\n",
       "    </tr>\n",
       "    <tr>\n",
       "      <th>4</th>\n",
       "      <td>BAMS</td>\n",
       "      <td>20</td>\n",
       "      <td>100.0</td>\n",
       "      <td>Chennai</td>\n",
       "      <td>Ayurveda</td>\n",
       "      <td>100% 4 Feedback Keelkattalai, Chennai</td>\n",
       "      <td>250</td>\n",
       "      <td>1</td>\n",
       "    </tr>\n",
       "  </tbody>\n",
       "</table>\n",
       "</div>"
      ],
      "text/plain": [
       "                    Qualification  Experience  Rating      Place  \\\n",
       "0           BHMS, MD - Homeopathy          24   100.0  Ernakulam   \n",
       "1    BAMS, MD - Ayurveda Medicine          12    98.0  Bangalore   \n",
       "2  MBBS, MS - Otorhinolaryngology           9     NaN  Bangalore   \n",
       "3             BSc - Zoology, BAMS          12     NaN  Bangalore   \n",
       "4                            BAMS          20   100.0    Chennai   \n",
       "\n",
       "          Profile                                 Miscellaneous_Info  Fees  \\\n",
       "0       Homeopath               100% 16 Feedback Kakkanad, Ernakulam   100   \n",
       "1        Ayurveda              98% 76 Feedback Whitefield, Bangalore   350   \n",
       "2  ENT Specialist                                                NaN   300   \n",
       "3        Ayurveda  Bannerghatta Road, Bangalore ₹250 Available on...   250   \n",
       "4        Ayurveda              100% 4 Feedback Keelkattalai, Chennai   250   \n",
       "\n",
       "   Qualification_No.  \n",
       "0                  2  \n",
       "1                  2  \n",
       "2                  2  \n",
       "3                  2  \n",
       "4                  1  "
      ]
     },
     "execution_count": 218,
     "metadata": {},
     "output_type": "execute_result"
    }
   ],
   "source": [
    "train1.head()"
   ]
  },
  {
   "cell_type": "code",
   "execution_count": 219,
   "metadata": {},
   "outputs": [
    {
     "name": "stdout",
     "output_type": "stream",
     "text": [
      "<class 'pandas.core.frame.DataFrame'>\n",
      "RangeIndex: 5961 entries, 0 to 5960\n",
      "Data columns (total 8 columns):\n",
      "Qualification         5961 non-null object\n",
      "Experience            5961 non-null int64\n",
      "Rating                2659 non-null float32\n",
      "Place                 5935 non-null object\n",
      "Profile               5961 non-null object\n",
      "Miscellaneous_Info    3341 non-null object\n",
      "Fees                  5961 non-null int64\n",
      "Qualification_No.     5961 non-null int64\n",
      "dtypes: float32(1), int64(3), object(4)\n",
      "memory usage: 349.4+ KB\n"
     ]
    }
   ],
   "source": [
    "train1.info()"
   ]
  },
  {
   "cell_type": "code",
   "execution_count": 220,
   "metadata": {},
   "outputs": [
    {
     "data": {
      "text/plain": [
       "Place               Experience  Rating\n",
       "Bangalore           0           79.0       1\n",
       "                                95.0       1\n",
       "                                97.0       1\n",
       "                                100.0      1\n",
       "                    2           100.0      5\n",
       "                    3           100.0      5\n",
       "                                95.0       1\n",
       "                                98.0       1\n",
       "                    4           100.0      3\n",
       "                                95.0       2\n",
       "                                96.0       1\n",
       "                                98.0       1\n",
       "                    5           100.0     15\n",
       "                                94.0       2\n",
       "                                97.0       2\n",
       "                                85.0       1\n",
       "                                88.0       1\n",
       "                                93.0       1\n",
       "                                98.0       1\n",
       "                                99.0       1\n",
       "                    6           100.0     13\n",
       "                                94.0       2\n",
       "                                96.0       2\n",
       "                                97.0       2\n",
       "                                92.0       1\n",
       "                                93.0       1\n",
       "                                99.0       1\n",
       "                    7           100.0     14\n",
       "                                93.0       3\n",
       "                                98.0       3\n",
       "                                          ..\n",
       "Mumbai              39          100.0      1\n",
       "                    40          89.0       2\n",
       "                                71.0       1\n",
       "                                80.0       1\n",
       "                    41          89.0       1\n",
       "                                97.0       1\n",
       "                    42          83.0       1\n",
       "                                99.0       1\n",
       "                    43          65.0       1\n",
       "                                86.0       1\n",
       "                                90.0       1\n",
       "                    44          94.0       1\n",
       "                    45          93.0       1\n",
       "                    46          91.0       1\n",
       "                    53          93.0       1\n",
       "Thiruvananthapuram  10          100.0      1\n",
       "                    12          100.0      1\n",
       "                    16          100.0      1\n",
       "                    17          93.0       1\n",
       "                    18          100.0      1\n",
       "                    19          94.0       1\n",
       "                    20          96.0       1\n",
       "                    21          96.0       1\n",
       "                                100.0      1\n",
       "                    22          98.0       1\n",
       "                                99.0       1\n",
       "                    25          98.0       1\n",
       "                    26          100.0      1\n",
       "                    28          96.0       1\n",
       "                    30          95.0       1\n",
       "Name: Rating, Length: 1407, dtype: int64"
      ]
     },
     "execution_count": 220,
     "metadata": {},
     "output_type": "execute_result"
    }
   ],
   "source": [
    "train1.groupby(['Place','Experience'])['Rating'].value_counts()"
   ]
  },
  {
   "cell_type": "code",
   "execution_count": 221,
   "metadata": {},
   "outputs": [],
   "source": [
    "train1['Place'].fillna('Ernakulam',inplace=True)"
   ]
  },
  {
   "cell_type": "code",
   "execution_count": 222,
   "metadata": {},
   "outputs": [
    {
     "data": {
      "text/plain": [
       "0"
      ]
     },
     "execution_count": 222,
     "metadata": {},
     "output_type": "execute_result"
    }
   ],
   "source": [
    "train1.Place.isnull().sum()"
   ]
  },
  {
   "cell_type": "code",
   "execution_count": 223,
   "metadata": {},
   "outputs": [],
   "source": [
    "train1.Rating=train1.groupby(['Profile']).transform(lambda x: x.fillna(x.median()))\n",
    "test1.Rating=test1.groupby(['Profile']).transform(lambda x: x.fillna(x.median()))"
   ]
  },
  {
   "cell_type": "code",
   "execution_count": 224,
   "metadata": {},
   "outputs": [],
   "source": [
    "train1['Exp. per Qual.']=pd.Series(np.sqrt((((train1['Experience'])**2)/((train1['Qualification_No.'])**2))))\n",
    "test1['Exp. per Qual.']=pd.Series(np.sqrt((((test1['Experience'])**2)/((test1['Qualification_No.'])**2))))"
   ]
  },
  {
   "cell_type": "code",
   "execution_count": 225,
   "metadata": {},
   "outputs": [
    {
     "data": {
      "text/plain": [
       "0"
      ]
     },
     "execution_count": 225,
     "metadata": {},
     "output_type": "execute_result"
    }
   ],
   "source": [
    "train1.Profile.isnull().sum()"
   ]
  },
  {
   "cell_type": "code",
   "execution_count": 226,
   "metadata": {},
   "outputs": [],
   "source": [
    "train1.Miscellaneous_Info.fillna(train1['Rating'].mean(),inplace=True)"
   ]
  },
  {
   "cell_type": "code",
   "execution_count": 227,
   "metadata": {},
   "outputs": [],
   "source": [
    "train1['Misc_info']=train1['Miscellaneous_Info'].apply(lambda x:len(str(x).split(',')))"
   ]
  },
  {
   "cell_type": "code",
   "execution_count": 228,
   "metadata": {
    "scrolled": false
   },
   "outputs": [
    {
     "data": {
      "text/plain": [
       "Dentist             1397\n",
       "General Medicine    1173\n",
       "Dermatologists      1034\n",
       "Homeopath            843\n",
       "Ayurveda             786\n",
       "ENT Specialist       728\n",
       "Name: Profile, dtype: int64"
      ]
     },
     "execution_count": 228,
     "metadata": {},
     "output_type": "execute_result"
    }
   ],
   "source": [
    "train1.Profile.value_counts()"
   ]
  },
  {
   "cell_type": "code",
   "execution_count": 229,
   "metadata": {},
   "outputs": [
    {
     "data": {
      "text/html": [
       "<div>\n",
       "<style scoped>\n",
       "    .dataframe tbody tr th:only-of-type {\n",
       "        vertical-align: middle;\n",
       "    }\n",
       "\n",
       "    .dataframe tbody tr th {\n",
       "        vertical-align: top;\n",
       "    }\n",
       "\n",
       "    .dataframe thead th {\n",
       "        text-align: right;\n",
       "    }\n",
       "</style>\n",
       "<table border=\"1\" class=\"dataframe\">\n",
       "  <thead>\n",
       "    <tr style=\"text-align: right;\">\n",
       "      <th></th>\n",
       "      <th>Qualification</th>\n",
       "      <th>Experience</th>\n",
       "      <th>Rating</th>\n",
       "      <th>Place</th>\n",
       "      <th>Profile</th>\n",
       "      <th>Miscellaneous_Info</th>\n",
       "      <th>Fees</th>\n",
       "      <th>Qualification_No.</th>\n",
       "      <th>Exp. per Qual.</th>\n",
       "      <th>Misc_info</th>\n",
       "    </tr>\n",
       "  </thead>\n",
       "  <tbody>\n",
       "  </tbody>\n",
       "</table>\n",
       "</div>"
      ],
      "text/plain": [
       "Empty DataFrame\n",
       "Columns: [Qualification, Experience, Rating, Place, Profile, Miscellaneous_Info, Fees, Qualification_No., Exp. per Qual., Misc_info]\n",
       "Index: []"
      ]
     },
     "execution_count": 229,
     "metadata": {},
     "output_type": "execute_result"
    }
   ],
   "source": [
    "train1[train1.Rating.isnull()]"
   ]
  },
  {
   "cell_type": "code",
   "execution_count": 230,
   "metadata": {},
   "outputs": [],
   "source": [
    "#den=train1[train1.Profile=='Dentist'].Qualification.str.extract(r'(BDS, MDS) ?')\n",
    "#dent=test1[test1.Profile=='Dentist'].Qualification.str.extract(r'(BDS, MDS) ?')"
   ]
  },
  {
   "cell_type": "code",
   "execution_count": 231,
   "metadata": {
    "scrolled": true
   },
   "outputs": [],
   "source": [
    "#den.fillna('BDS(Dental)',inplace=True)\n",
    "#dent.fillna('BDS(Dental)',inplace=True)"
   ]
  },
  {
   "cell_type": "code",
   "execution_count": 232,
   "metadata": {},
   "outputs": [],
   "source": [
    "#den.count() ############ Dentist degree done"
   ]
  },
  {
   "cell_type": "code",
   "execution_count": 233,
   "metadata": {},
   "outputs": [],
   "source": [
    "#den.rename(columns={0:'Dentist Degree'},inplace=True)\n",
    "#dent.rename(columns={0:'Dentist Degree'},inplace=True)"
   ]
  },
  {
   "cell_type": "code",
   "execution_count": 234,
   "metadata": {},
   "outputs": [],
   "source": [
    "#hom=train1[train1.Profile=='Homeopath'].Qualification.str.extract(r'(BHMS, MD)?')\n",
    "#homt=test1[test1.Profile=='Homeopath'].Qualification.str.extract(r'(BHMS, MD)?')"
   ]
  },
  {
   "cell_type": "code",
   "execution_count": 235,
   "metadata": {},
   "outputs": [],
   "source": [
    "#hom.fillna('BHMS(Homeopath)',inplace=True)\n",
    "#homt.fillna('BHMS(Homeopath)',inplace=True)"
   ]
  },
  {
   "cell_type": "code",
   "execution_count": 236,
   "metadata": {},
   "outputs": [],
   "source": [
    "#hom.rename(columns={0:'Homeopath'},inplace=True)\n",
    "#homt.rename(columns={0:'Homeopath'},inplace=True)"
   ]
  },
  {
   "cell_type": "code",
   "execution_count": 237,
   "metadata": {},
   "outputs": [],
   "source": [
    "#hom.count() ########### Homeopath done"
   ]
  },
  {
   "cell_type": "code",
   "execution_count": 238,
   "metadata": {},
   "outputs": [],
   "source": [
    "#ayu=train1[train1.Profile=='Ayurveda'].Qualification.str.extract(r'(BAMS, MD) ?')\n",
    "#ayut=test1[test1.Profile=='Ayurveda'].Qualification.str.extract(r'(BAMS, MD) ?')"
   ]
  },
  {
   "cell_type": "code",
   "execution_count": 239,
   "metadata": {},
   "outputs": [],
   "source": [
    "#ayu.fillna('BAMS(Ayurveda)',inplace=True)\n",
    "#ayut.fillna('BAMS(Ayurveda)',inplace=True)"
   ]
  },
  {
   "cell_type": "code",
   "execution_count": 240,
   "metadata": {},
   "outputs": [],
   "source": [
    "#ayu.rename(columns={0:'Ayurveda'},inplace=True)\n",
    "#ayut.rename(columns={0:'Ayurveda'},inplace=True)"
   ]
  },
  {
   "cell_type": "code",
   "execution_count": 241,
   "metadata": {},
   "outputs": [],
   "source": [
    "#train1[train1.Profile=='Ayurveda'].Qualification.count()\n",
    "#test1[test1.Profile=='Ayurveda'].Qualification.count()"
   ]
  },
  {
   "cell_type": "code",
   "execution_count": 242,
   "metadata": {},
   "outputs": [],
   "source": [
    "#ent=train1[train1.Profile=='ENT Specialist'].Qualification.str.extract(r'(MBBS, MS) ?')\n",
    "#entt=test1[test1.Profile=='ENT Specialist'].Qualification.str.extract(r'(MBBS, MS) ?')"
   ]
  },
  {
   "cell_type": "code",
   "execution_count": 243,
   "metadata": {},
   "outputs": [],
   "source": [
    "#ent.fillna('MBBS(ENT)',inplace=True)\n",
    "#entt.fillna('MBBS(ENT)',inplace=True)"
   ]
  },
  {
   "cell_type": "code",
   "execution_count": 244,
   "metadata": {},
   "outputs": [],
   "source": [
    "#ent.rename(columns={0:'ENT Specialist'},inplace=True)\n",
    "#entt.rename(columns={0:'ENT Specialist'},inplace=True)"
   ]
  },
  {
   "cell_type": "code",
   "execution_count": 245,
   "metadata": {},
   "outputs": [],
   "source": [
    "#ent.count()"
   ]
  },
  {
   "cell_type": "code",
   "execution_count": 246,
   "metadata": {},
   "outputs": [],
   "source": [
    "#train1[train1.Profile=='ENT Specialist'].Qualification.count()\n"
   ]
  },
  {
   "cell_type": "code",
   "execution_count": 247,
   "metadata": {},
   "outputs": [],
   "source": [
    "#gm=train1[train1.Profile=='General Medicine'].Qualification.str.extract(r'(MBBS, MD) ?')\n",
    "#gmt=test1[test1.Profile=='General Medicine'].Qualification.str.extract(r'(MBBS, MD) ?')"
   ]
  },
  {
   "cell_type": "code",
   "execution_count": 248,
   "metadata": {},
   "outputs": [],
   "source": [
    "#gm.fillna('MBBS(GM)',inplace=True)\n",
    "#gmt.fillna('MBBS(GM)',inplace=True)"
   ]
  },
  {
   "cell_type": "code",
   "execution_count": 249,
   "metadata": {},
   "outputs": [],
   "source": [
    "#gm.rename(columns={0:'General Medicine'},inplace=True)\n",
    "#gmt.rename(columns={0:'General Medicine'},inplace=True)"
   ]
  },
  {
   "cell_type": "code",
   "execution_count": 250,
   "metadata": {},
   "outputs": [],
   "source": [
    "#gm.count()"
   ]
  },
  {
   "cell_type": "code",
   "execution_count": 251,
   "metadata": {},
   "outputs": [],
   "source": [
    "#der=train1[train1.Profile=='Dermatologists'].Qualification.str.extract(r'(MBBS, MD) ?')\n",
    "#dert=test1[test1.Profile=='Dermatologists'].Qualification.str.extract(r'(MBBS, MD) ?')"
   ]
  },
  {
   "cell_type": "code",
   "execution_count": 252,
   "metadata": {},
   "outputs": [],
   "source": [
    "#der.fillna('MBBS(Der.)',inplace=True)\n",
    "#dert.fillna('MBBS(Der.)',inplace=True)"
   ]
  },
  {
   "cell_type": "code",
   "execution_count": 253,
   "metadata": {},
   "outputs": [],
   "source": [
    "#der.rename(columns={0:'Dermatologist'},inplace=True)\n",
    "#dert.rename(columns={0:'Dermatologist'},inplace=True)"
   ]
  },
  {
   "cell_type": "code",
   "execution_count": 254,
   "metadata": {},
   "outputs": [],
   "source": [
    "#new=pd.concat([den,hom,ayu,ent,gm,der],axis=1)\n",
    "#newt=pd.concat([dent,homt,ayut,entt,gmt,dert],axis=1)"
   ]
  },
  {
   "cell_type": "code",
   "execution_count": 255,
   "metadata": {},
   "outputs": [],
   "source": [
    "#new.fillna('Not Acquired',inplace=True)\n",
    "#newt.fillna('Not Acquired',inplace=True)"
   ]
  },
  {
   "cell_type": "code",
   "execution_count": 256,
   "metadata": {},
   "outputs": [],
   "source": [
    "#train1=pd.concat([train1,new],axis=1)\n",
    "#test1=pd.concat([test1,newt],axis=1)"
   ]
  },
  {
   "cell_type": "code",
   "execution_count": 257,
   "metadata": {},
   "outputs": [
    {
     "data": {
      "text/plain": [
       "2     2628\n",
       "1     1962\n",
       "3      995\n",
       "4      257\n",
       "5       84\n",
       "6       23\n",
       "7        6\n",
       "9        3\n",
       "8        2\n",
       "10       1\n",
       "Name: Qualification_No., dtype: int64"
      ]
     },
     "execution_count": 257,
     "metadata": {},
     "output_type": "execute_result"
    }
   ],
   "source": [
    "train1['Qualification_No.'].value_counts()"
   ]
  },
  {
   "cell_type": "code",
   "execution_count": 258,
   "metadata": {},
   "outputs": [],
   "source": [
    "train1.loc[2035,'Qualification_No.']=2"
   ]
  },
  {
   "cell_type": "code",
   "execution_count": 259,
   "metadata": {},
   "outputs": [],
   "source": [
    "train1.loc[3562,'Qualification_No.']=3"
   ]
  },
  {
   "cell_type": "code",
   "execution_count": 260,
   "metadata": {},
   "outputs": [
    {
     "data": {
      "text/html": [
       "<div>\n",
       "<style scoped>\n",
       "    .dataframe tbody tr th:only-of-type {\n",
       "        vertical-align: middle;\n",
       "    }\n",
       "\n",
       "    .dataframe tbody tr th {\n",
       "        vertical-align: top;\n",
       "    }\n",
       "\n",
       "    .dataframe thead th {\n",
       "        text-align: right;\n",
       "    }\n",
       "</style>\n",
       "<table border=\"1\" class=\"dataframe\">\n",
       "  <thead>\n",
       "    <tr style=\"text-align: right;\">\n",
       "      <th></th>\n",
       "      <th>Qualification</th>\n",
       "      <th>Experience</th>\n",
       "      <th>Rating</th>\n",
       "      <th>Place</th>\n",
       "      <th>Profile</th>\n",
       "      <th>Miscellaneous_Info</th>\n",
       "      <th>Qualification_No.</th>\n",
       "      <th>Exp. per Qual.</th>\n",
       "    </tr>\n",
       "  </thead>\n",
       "  <tbody>\n",
       "    <tr>\n",
       "      <th>1287</th>\n",
       "      <td>BDS, PG Diploma in Conservative, Endodontics a...</td>\n",
       "      <td>4</td>\n",
       "      <td>4.0</td>\n",
       "      <td>Delhi</td>\n",
       "      <td>Dentist</td>\n",
       "      <td>Dental Crowns Dental Fillings Dental Implant F...</td>\n",
       "      <td>17</td>\n",
       "      <td>0.235294</td>\n",
       "    </tr>\n",
       "  </tbody>\n",
       "</table>\n",
       "</div>"
      ],
      "text/plain": [
       "                                          Qualification  Experience  Rating  \\\n",
       "1287  BDS, PG Diploma in Conservative, Endodontics a...           4     4.0   \n",
       "\n",
       "      Place  Profile                                 Miscellaneous_Info  \\\n",
       "1287  Delhi  Dentist  Dental Crowns Dental Fillings Dental Implant F...   \n",
       "\n",
       "      Qualification_No.  Exp. per Qual.  \n",
       "1287                 17        0.235294  "
      ]
     },
     "execution_count": 260,
     "metadata": {},
     "output_type": "execute_result"
    }
   ],
   "source": [
    "test1[test1['Qualification_No.']==17]"
   ]
  },
  {
   "cell_type": "code",
   "execution_count": 261,
   "metadata": {},
   "outputs": [],
   "source": [
    "test1.loc[1287,'Qualification_No.']=2"
   ]
  },
  {
   "cell_type": "code",
   "execution_count": 262,
   "metadata": {},
   "outputs": [
    {
     "data": {
      "text/html": [
       "<div>\n",
       "<style scoped>\n",
       "    .dataframe tbody tr th:only-of-type {\n",
       "        vertical-align: middle;\n",
       "    }\n",
       "\n",
       "    .dataframe tbody tr th {\n",
       "        vertical-align: top;\n",
       "    }\n",
       "\n",
       "    .dataframe thead th {\n",
       "        text-align: right;\n",
       "    }\n",
       "</style>\n",
       "<table border=\"1\" class=\"dataframe\">\n",
       "  <thead>\n",
       "    <tr style=\"text-align: right;\">\n",
       "      <th></th>\n",
       "      <th>Qualification</th>\n",
       "      <th>Experience</th>\n",
       "      <th>Rating</th>\n",
       "      <th>Place</th>\n",
       "      <th>Profile</th>\n",
       "      <th>Miscellaneous_Info</th>\n",
       "      <th>Fees</th>\n",
       "      <th>Qualification_No.</th>\n",
       "      <th>Exp. per Qual.</th>\n",
       "      <th>Misc_info</th>\n",
       "    </tr>\n",
       "  </thead>\n",
       "  <tbody>\n",
       "    <tr>\n",
       "      <th>0</th>\n",
       "      <td>BHMS, MD - Homeopathy</td>\n",
       "      <td>24</td>\n",
       "      <td>24.0</td>\n",
       "      <td>Ernakulam</td>\n",
       "      <td>Homeopath</td>\n",
       "      <td>100% 16 Feedback Kakkanad, Ernakulam</td>\n",
       "      <td>100</td>\n",
       "      <td>2</td>\n",
       "      <td>12.0</td>\n",
       "      <td>2</td>\n",
       "    </tr>\n",
       "    <tr>\n",
       "      <th>1</th>\n",
       "      <td>BAMS, MD - Ayurveda Medicine</td>\n",
       "      <td>12</td>\n",
       "      <td>12.0</td>\n",
       "      <td>Bangalore</td>\n",
       "      <td>Ayurveda</td>\n",
       "      <td>98% 76 Feedback Whitefield, Bangalore</td>\n",
       "      <td>350</td>\n",
       "      <td>2</td>\n",
       "      <td>6.0</td>\n",
       "      <td>2</td>\n",
       "    </tr>\n",
       "    <tr>\n",
       "      <th>2</th>\n",
       "      <td>MBBS, MS - Otorhinolaryngology</td>\n",
       "      <td>9</td>\n",
       "      <td>9.0</td>\n",
       "      <td>Bangalore</td>\n",
       "      <td>ENT Specialist</td>\n",
       "      <td>17.304</td>\n",
       "      <td>300</td>\n",
       "      <td>2</td>\n",
       "      <td>4.5</td>\n",
       "      <td>1</td>\n",
       "    </tr>\n",
       "    <tr>\n",
       "      <th>3</th>\n",
       "      <td>BSc - Zoology, BAMS</td>\n",
       "      <td>12</td>\n",
       "      <td>12.0</td>\n",
       "      <td>Bangalore</td>\n",
       "      <td>Ayurveda</td>\n",
       "      <td>Bannerghatta Road, Bangalore ₹250 Available on...</td>\n",
       "      <td>250</td>\n",
       "      <td>2</td>\n",
       "      <td>6.0</td>\n",
       "      <td>3</td>\n",
       "    </tr>\n",
       "    <tr>\n",
       "      <th>4</th>\n",
       "      <td>BAMS</td>\n",
       "      <td>20</td>\n",
       "      <td>20.0</td>\n",
       "      <td>Chennai</td>\n",
       "      <td>Ayurveda</td>\n",
       "      <td>100% 4 Feedback Keelkattalai, Chennai</td>\n",
       "      <td>250</td>\n",
       "      <td>1</td>\n",
       "      <td>20.0</td>\n",
       "      <td>2</td>\n",
       "    </tr>\n",
       "  </tbody>\n",
       "</table>\n",
       "</div>"
      ],
      "text/plain": [
       "                    Qualification  Experience  Rating      Place  \\\n",
       "0           BHMS, MD - Homeopathy          24    24.0  Ernakulam   \n",
       "1    BAMS, MD - Ayurveda Medicine          12    12.0  Bangalore   \n",
       "2  MBBS, MS - Otorhinolaryngology           9     9.0  Bangalore   \n",
       "3             BSc - Zoology, BAMS          12    12.0  Bangalore   \n",
       "4                            BAMS          20    20.0    Chennai   \n",
       "\n",
       "          Profile                                 Miscellaneous_Info  Fees  \\\n",
       "0       Homeopath               100% 16 Feedback Kakkanad, Ernakulam   100   \n",
       "1        Ayurveda              98% 76 Feedback Whitefield, Bangalore   350   \n",
       "2  ENT Specialist                                             17.304   300   \n",
       "3        Ayurveda  Bannerghatta Road, Bangalore ₹250 Available on...   250   \n",
       "4        Ayurveda              100% 4 Feedback Keelkattalai, Chennai   250   \n",
       "\n",
       "   Qualification_No.  Exp. per Qual.  Misc_info  \n",
       "0                  2            12.0          2  \n",
       "1                  2             6.0          2  \n",
       "2                  2             4.5          1  \n",
       "3                  2             6.0          3  \n",
       "4                  1            20.0          2  "
      ]
     },
     "execution_count": 262,
     "metadata": {},
     "output_type": "execute_result"
    }
   ],
   "source": [
    "train1.head()"
   ]
  },
  {
   "cell_type": "code",
   "execution_count": 263,
   "metadata": {},
   "outputs": [
    {
     "data": {
      "text/html": [
       "<div>\n",
       "<style scoped>\n",
       "    .dataframe tbody tr th:only-of-type {\n",
       "        vertical-align: middle;\n",
       "    }\n",
       "\n",
       "    .dataframe tbody tr th {\n",
       "        vertical-align: top;\n",
       "    }\n",
       "\n",
       "    .dataframe thead th {\n",
       "        text-align: right;\n",
       "    }\n",
       "</style>\n",
       "<table border=\"1\" class=\"dataframe\">\n",
       "  <thead>\n",
       "    <tr style=\"text-align: right;\">\n",
       "      <th></th>\n",
       "      <th>Qualification</th>\n",
       "      <th>Experience</th>\n",
       "      <th>Rating</th>\n",
       "      <th>Place</th>\n",
       "      <th>Profile</th>\n",
       "      <th>Miscellaneous_Info</th>\n",
       "      <th>Qualification_No.</th>\n",
       "      <th>Exp. per Qual.</th>\n",
       "    </tr>\n",
       "  </thead>\n",
       "  <tbody>\n",
       "    <tr>\n",
       "      <th>0</th>\n",
       "      <td>MBBS</td>\n",
       "      <td>35</td>\n",
       "      <td>35.0</td>\n",
       "      <td>Mumbai</td>\n",
       "      <td>General Medicine</td>\n",
       "      <td>NaN</td>\n",
       "      <td>1</td>\n",
       "      <td>35.0</td>\n",
       "    </tr>\n",
       "    <tr>\n",
       "      <th>1</th>\n",
       "      <td>MBBS, Diploma in Otorhinolaryngology (DLO)</td>\n",
       "      <td>31</td>\n",
       "      <td>31.0</td>\n",
       "      <td>Hyderabad</td>\n",
       "      <td>ENT Specialist</td>\n",
       "      <td>NaN</td>\n",
       "      <td>2</td>\n",
       "      <td>15.5</td>\n",
       "    </tr>\n",
       "    <tr>\n",
       "      <th>2</th>\n",
       "      <td>MBBS, DDVL</td>\n",
       "      <td>40</td>\n",
       "      <td>40.0</td>\n",
       "      <td>Chennai</td>\n",
       "      <td>Dermatologists</td>\n",
       "      <td>70% 4 Feedback KK Nagar, Chennai</td>\n",
       "      <td>2</td>\n",
       "      <td>20.0</td>\n",
       "    </tr>\n",
       "    <tr>\n",
       "      <th>3</th>\n",
       "      <td>BAMS</td>\n",
       "      <td>0</td>\n",
       "      <td>0.0</td>\n",
       "      <td>Delhi</td>\n",
       "      <td>Ayurveda</td>\n",
       "      <td>NaN</td>\n",
       "      <td>1</td>\n",
       "      <td>0.0</td>\n",
       "    </tr>\n",
       "    <tr>\n",
       "      <th>4</th>\n",
       "      <td>BDS, MDS - Conservative Dentistry &amp; Endodontics</td>\n",
       "      <td>16</td>\n",
       "      <td>16.0</td>\n",
       "      <td>Bangalore</td>\n",
       "      <td>Dentist</td>\n",
       "      <td>General Dentistry Conservative Dentistry Cosme...</td>\n",
       "      <td>2</td>\n",
       "      <td>8.0</td>\n",
       "    </tr>\n",
       "  </tbody>\n",
       "</table>\n",
       "</div>"
      ],
      "text/plain": [
       "                                     Qualification  Experience  Rating  \\\n",
       "0                                             MBBS          35    35.0   \n",
       "1       MBBS, Diploma in Otorhinolaryngology (DLO)          31    31.0   \n",
       "2                                       MBBS, DDVL          40    40.0   \n",
       "3                                             BAMS           0     0.0   \n",
       "4  BDS, MDS - Conservative Dentistry & Endodontics          16    16.0   \n",
       "\n",
       "       Place           Profile  \\\n",
       "0     Mumbai  General Medicine   \n",
       "1  Hyderabad    ENT Specialist   \n",
       "2    Chennai    Dermatologists   \n",
       "3      Delhi          Ayurveda   \n",
       "4  Bangalore           Dentist   \n",
       "\n",
       "                                  Miscellaneous_Info  Qualification_No.  \\\n",
       "0                                                NaN                  1   \n",
       "1                                                NaN                  2   \n",
       "2                   70% 4 Feedback KK Nagar, Chennai                  2   \n",
       "3                                                NaN                  1   \n",
       "4  General Dentistry Conservative Dentistry Cosme...                  2   \n",
       "\n",
       "   Exp. per Qual.  \n",
       "0            35.0  \n",
       "1            15.5  \n",
       "2            20.0  \n",
       "3             0.0  \n",
       "4             8.0  "
      ]
     },
     "execution_count": 263,
     "metadata": {},
     "output_type": "execute_result"
    }
   ],
   "source": [
    "test1.head()"
   ]
  },
  {
   "cell_type": "code",
   "execution_count": null,
   "metadata": {},
   "outputs": [],
   "source": []
  },
  {
   "cell_type": "code",
   "execution_count": 264,
   "metadata": {},
   "outputs": [],
   "source": [
    "test1['Place'].fillna('Bangalore',inplace=True)"
   ]
  },
  {
   "cell_type": "code",
   "execution_count": 265,
   "metadata": {},
   "outputs": [],
   "source": [
    "test1['Misc_info']=test1['Miscellaneous_Info'].apply(lambda x:len(str(x).split(',')))"
   ]
  },
  {
   "cell_type": "code",
   "execution_count": 266,
   "metadata": {
    "scrolled": true
   },
   "outputs": [
    {
     "data": {
      "text/html": [
       "<div>\n",
       "<style scoped>\n",
       "    .dataframe tbody tr th:only-of-type {\n",
       "        vertical-align: middle;\n",
       "    }\n",
       "\n",
       "    .dataframe tbody tr th {\n",
       "        vertical-align: top;\n",
       "    }\n",
       "\n",
       "    .dataframe thead th {\n",
       "        text-align: right;\n",
       "    }\n",
       "</style>\n",
       "<table border=\"1\" class=\"dataframe\">\n",
       "  <thead>\n",
       "    <tr style=\"text-align: right;\">\n",
       "      <th></th>\n",
       "      <th>Qualification</th>\n",
       "      <th>Experience</th>\n",
       "      <th>Rating</th>\n",
       "      <th>Place</th>\n",
       "      <th>Profile</th>\n",
       "      <th>Miscellaneous_Info</th>\n",
       "      <th>Fees</th>\n",
       "      <th>Qualification_No.</th>\n",
       "      <th>Exp. per Qual.</th>\n",
       "      <th>Misc_info</th>\n",
       "    </tr>\n",
       "  </thead>\n",
       "  <tbody>\n",
       "  </tbody>\n",
       "</table>\n",
       "</div>"
      ],
      "text/plain": [
       "Empty DataFrame\n",
       "Columns: [Qualification, Experience, Rating, Place, Profile, Miscellaneous_Info, Fees, Qualification_No., Exp. per Qual., Misc_info]\n",
       "Index: []"
      ]
     },
     "execution_count": 266,
     "metadata": {},
     "output_type": "execute_result"
    }
   ],
   "source": [
    "train1[train1.Miscellaneous_Info.isnull()].head()"
   ]
  },
  {
   "cell_type": "code",
   "execution_count": 267,
   "metadata": {},
   "outputs": [],
   "source": [
    "#train1['Rate_log_error']=(train1['Rating']+1).transform(np.log)\n",
    "#test1['Rate_log_error']=(test1['Rating']+1).transform(np.log)"
   ]
  },
  {
   "cell_type": "code",
   "execution_count": 268,
   "metadata": {},
   "outputs": [
    {
     "data": {
      "text/plain": [
       "Qualification         0\n",
       "Experience            0\n",
       "Rating                0\n",
       "Place                 0\n",
       "Profile               0\n",
       "Miscellaneous_Info    0\n",
       "Fees                  0\n",
       "Qualification_No.     0\n",
       "Exp. per Qual.        0\n",
       "Misc_info             0\n",
       "dtype: int64"
      ]
     },
     "execution_count": 268,
     "metadata": {},
     "output_type": "execute_result"
    }
   ],
   "source": [
    "train1.isnull().sum()"
   ]
  },
  {
   "cell_type": "code",
   "execution_count": 269,
   "metadata": {},
   "outputs": [],
   "source": [
    "train1.drop(columns=['Qualification','Miscellaneous_Info'],inplace=True)"
   ]
  },
  {
   "cell_type": "code",
   "execution_count": 270,
   "metadata": {},
   "outputs": [],
   "source": [
    "test1.drop(columns=['Qualification','Miscellaneous_Info'],inplace=True)"
   ]
  },
  {
   "cell_type": "code",
   "execution_count": 271,
   "metadata": {
    "scrolled": false
   },
   "outputs": [
    {
     "data": {
      "text/html": [
       "<div>\n",
       "<style scoped>\n",
       "    .dataframe tbody tr th:only-of-type {\n",
       "        vertical-align: middle;\n",
       "    }\n",
       "\n",
       "    .dataframe tbody tr th {\n",
       "        vertical-align: top;\n",
       "    }\n",
       "\n",
       "    .dataframe thead th {\n",
       "        text-align: right;\n",
       "    }\n",
       "</style>\n",
       "<table border=\"1\" class=\"dataframe\">\n",
       "  <thead>\n",
       "    <tr style=\"text-align: right;\">\n",
       "      <th></th>\n",
       "      <th>Experience</th>\n",
       "      <th>Rating</th>\n",
       "      <th>Place</th>\n",
       "      <th>Profile</th>\n",
       "      <th>Fees</th>\n",
       "      <th>Qualification_No.</th>\n",
       "      <th>Exp. per Qual.</th>\n",
       "      <th>Misc_info</th>\n",
       "    </tr>\n",
       "  </thead>\n",
       "  <tbody>\n",
       "    <tr>\n",
       "      <th>0</th>\n",
       "      <td>24</td>\n",
       "      <td>24.0</td>\n",
       "      <td>Ernakulam</td>\n",
       "      <td>Homeopath</td>\n",
       "      <td>100</td>\n",
       "      <td>2</td>\n",
       "      <td>12.0</td>\n",
       "      <td>2</td>\n",
       "    </tr>\n",
       "    <tr>\n",
       "      <th>1</th>\n",
       "      <td>12</td>\n",
       "      <td>12.0</td>\n",
       "      <td>Bangalore</td>\n",
       "      <td>Ayurveda</td>\n",
       "      <td>350</td>\n",
       "      <td>2</td>\n",
       "      <td>6.0</td>\n",
       "      <td>2</td>\n",
       "    </tr>\n",
       "    <tr>\n",
       "      <th>2</th>\n",
       "      <td>9</td>\n",
       "      <td>9.0</td>\n",
       "      <td>Bangalore</td>\n",
       "      <td>ENT Specialist</td>\n",
       "      <td>300</td>\n",
       "      <td>2</td>\n",
       "      <td>4.5</td>\n",
       "      <td>1</td>\n",
       "    </tr>\n",
       "    <tr>\n",
       "      <th>3</th>\n",
       "      <td>12</td>\n",
       "      <td>12.0</td>\n",
       "      <td>Bangalore</td>\n",
       "      <td>Ayurveda</td>\n",
       "      <td>250</td>\n",
       "      <td>2</td>\n",
       "      <td>6.0</td>\n",
       "      <td>3</td>\n",
       "    </tr>\n",
       "    <tr>\n",
       "      <th>4</th>\n",
       "      <td>20</td>\n",
       "      <td>20.0</td>\n",
       "      <td>Chennai</td>\n",
       "      <td>Ayurveda</td>\n",
       "      <td>250</td>\n",
       "      <td>1</td>\n",
       "      <td>20.0</td>\n",
       "      <td>2</td>\n",
       "    </tr>\n",
       "  </tbody>\n",
       "</table>\n",
       "</div>"
      ],
      "text/plain": [
       "   Experience  Rating      Place         Profile  Fees  Qualification_No.  \\\n",
       "0          24    24.0  Ernakulam       Homeopath   100                  2   \n",
       "1          12    12.0  Bangalore        Ayurveda   350                  2   \n",
       "2           9     9.0  Bangalore  ENT Specialist   300                  2   \n",
       "3          12    12.0  Bangalore        Ayurveda   250                  2   \n",
       "4          20    20.0    Chennai        Ayurveda   250                  1   \n",
       "\n",
       "   Exp. per Qual.  Misc_info  \n",
       "0            12.0          2  \n",
       "1             6.0          2  \n",
       "2             4.5          1  \n",
       "3             6.0          3  \n",
       "4            20.0          2  "
      ]
     },
     "execution_count": 271,
     "metadata": {},
     "output_type": "execute_result"
    }
   ],
   "source": [
    "train1.head()"
   ]
  },
  {
   "cell_type": "code",
   "execution_count": null,
   "metadata": {},
   "outputs": [],
   "source": []
  },
  {
   "cell_type": "code",
   "execution_count": 272,
   "metadata": {},
   "outputs": [],
   "source": [
    "train1.loc[2262,'Experience']=25"
   ]
  },
  {
   "cell_type": "code",
   "execution_count": 273,
   "metadata": {},
   "outputs": [],
   "source": [
    "train1.loc[110,'Experience']=18"
   ]
  },
  {
   "cell_type": "code",
   "execution_count": 274,
   "metadata": {},
   "outputs": [],
   "source": [
    "train1.loc[2062,'Experience']=14"
   ]
  },
  {
   "cell_type": "code",
   "execution_count": 275,
   "metadata": {},
   "outputs": [],
   "source": [
    "train1.loc[5087,'Experience']=20"
   ]
  },
  {
   "cell_type": "code",
   "execution_count": 276,
   "metadata": {},
   "outputs": [],
   "source": [
    "train1.loc[5637,'Experience']=18"
   ]
  },
  {
   "cell_type": "code",
   "execution_count": 277,
   "metadata": {},
   "outputs": [],
   "source": [
    "train1.loc[372,'Experience']=23"
   ]
  },
  {
   "cell_type": "code",
   "execution_count": null,
   "metadata": {},
   "outputs": [],
   "source": []
  },
  {
   "cell_type": "code",
   "execution_count": 278,
   "metadata": {},
   "outputs": [],
   "source": [
    "test1.Experience=test1.Experience.astype('int64')"
   ]
  },
  {
   "cell_type": "code",
   "execution_count": 279,
   "metadata": {},
   "outputs": [],
   "source": [
    "#a=[-1,0,10,20,30,40,50,60,70]\n",
    "#l=['Not-Experienced','G-Grade','F-Grade','E-Grade','D-Grade','C-Grade','B-Grade','A-Grade']\n",
    "#train1['Grade']=pd.cut(train1.Experience,a,labels=l)\n",
    "#test1['Grade']=pd.cut(test1.Experience,a,labels=l)"
   ]
  },
  {
   "cell_type": "code",
   "execution_count": 280,
   "metadata": {
    "scrolled": true
   },
   "outputs": [
    {
     "data": {
      "text/html": [
       "<div>\n",
       "<style scoped>\n",
       "    .dataframe tbody tr th:only-of-type {\n",
       "        vertical-align: middle;\n",
       "    }\n",
       "\n",
       "    .dataframe tbody tr th {\n",
       "        vertical-align: top;\n",
       "    }\n",
       "\n",
       "    .dataframe thead th {\n",
       "        text-align: right;\n",
       "    }\n",
       "</style>\n",
       "<table border=\"1\" class=\"dataframe\">\n",
       "  <thead>\n",
       "    <tr style=\"text-align: right;\">\n",
       "      <th></th>\n",
       "      <th>Experience</th>\n",
       "      <th>Rating</th>\n",
       "      <th>Place</th>\n",
       "      <th>Profile</th>\n",
       "      <th>Fees</th>\n",
       "      <th>Qualification_No.</th>\n",
       "      <th>Exp. per Qual.</th>\n",
       "      <th>Misc_info</th>\n",
       "    </tr>\n",
       "  </thead>\n",
       "  <tbody>\n",
       "    <tr>\n",
       "      <th>0</th>\n",
       "      <td>24</td>\n",
       "      <td>24.0</td>\n",
       "      <td>Ernakulam</td>\n",
       "      <td>Homeopath</td>\n",
       "      <td>100</td>\n",
       "      <td>2</td>\n",
       "      <td>12.0</td>\n",
       "      <td>2</td>\n",
       "    </tr>\n",
       "    <tr>\n",
       "      <th>1</th>\n",
       "      <td>12</td>\n",
       "      <td>12.0</td>\n",
       "      <td>Bangalore</td>\n",
       "      <td>Ayurveda</td>\n",
       "      <td>350</td>\n",
       "      <td>2</td>\n",
       "      <td>6.0</td>\n",
       "      <td>2</td>\n",
       "    </tr>\n",
       "    <tr>\n",
       "      <th>2</th>\n",
       "      <td>9</td>\n",
       "      <td>9.0</td>\n",
       "      <td>Bangalore</td>\n",
       "      <td>ENT Specialist</td>\n",
       "      <td>300</td>\n",
       "      <td>2</td>\n",
       "      <td>4.5</td>\n",
       "      <td>1</td>\n",
       "    </tr>\n",
       "    <tr>\n",
       "      <th>3</th>\n",
       "      <td>12</td>\n",
       "      <td>12.0</td>\n",
       "      <td>Bangalore</td>\n",
       "      <td>Ayurveda</td>\n",
       "      <td>250</td>\n",
       "      <td>2</td>\n",
       "      <td>6.0</td>\n",
       "      <td>3</td>\n",
       "    </tr>\n",
       "    <tr>\n",
       "      <th>4</th>\n",
       "      <td>20</td>\n",
       "      <td>20.0</td>\n",
       "      <td>Chennai</td>\n",
       "      <td>Ayurveda</td>\n",
       "      <td>250</td>\n",
       "      <td>1</td>\n",
       "      <td>20.0</td>\n",
       "      <td>2</td>\n",
       "    </tr>\n",
       "  </tbody>\n",
       "</table>\n",
       "</div>"
      ],
      "text/plain": [
       "   Experience  Rating      Place         Profile  Fees  Qualification_No.  \\\n",
       "0          24    24.0  Ernakulam       Homeopath   100                  2   \n",
       "1          12    12.0  Bangalore        Ayurveda   350                  2   \n",
       "2           9     9.0  Bangalore  ENT Specialist   300                  2   \n",
       "3          12    12.0  Bangalore        Ayurveda   250                  2   \n",
       "4          20    20.0    Chennai        Ayurveda   250                  1   \n",
       "\n",
       "   Exp. per Qual.  Misc_info  \n",
       "0            12.0          2  \n",
       "1             6.0          2  \n",
       "2             4.5          1  \n",
       "3             6.0          3  \n",
       "4            20.0          2  "
      ]
     },
     "execution_count": 280,
     "metadata": {},
     "output_type": "execute_result"
    }
   ],
   "source": [
    "train1.head()"
   ]
  },
  {
   "cell_type": "code",
   "execution_count": 281,
   "metadata": {},
   "outputs": [
    {
     "data": {
      "text/html": [
       "<div>\n",
       "<style scoped>\n",
       "    .dataframe tbody tr th:only-of-type {\n",
       "        vertical-align: middle;\n",
       "    }\n",
       "\n",
       "    .dataframe tbody tr th {\n",
       "        vertical-align: top;\n",
       "    }\n",
       "\n",
       "    .dataframe thead th {\n",
       "        text-align: right;\n",
       "    }\n",
       "</style>\n",
       "<table border=\"1\" class=\"dataframe\">\n",
       "  <thead>\n",
       "    <tr style=\"text-align: right;\">\n",
       "      <th></th>\n",
       "      <th>Experience</th>\n",
       "      <th>Rating</th>\n",
       "      <th>Place</th>\n",
       "      <th>Profile</th>\n",
       "      <th>Qualification_No.</th>\n",
       "      <th>Exp. per Qual.</th>\n",
       "      <th>Misc_info</th>\n",
       "    </tr>\n",
       "  </thead>\n",
       "  <tbody>\n",
       "    <tr>\n",
       "      <th>0</th>\n",
       "      <td>35</td>\n",
       "      <td>35.0</td>\n",
       "      <td>Mumbai</td>\n",
       "      <td>General Medicine</td>\n",
       "      <td>1</td>\n",
       "      <td>35.0</td>\n",
       "      <td>1</td>\n",
       "    </tr>\n",
       "    <tr>\n",
       "      <th>1</th>\n",
       "      <td>31</td>\n",
       "      <td>31.0</td>\n",
       "      <td>Hyderabad</td>\n",
       "      <td>ENT Specialist</td>\n",
       "      <td>2</td>\n",
       "      <td>15.5</td>\n",
       "      <td>1</td>\n",
       "    </tr>\n",
       "    <tr>\n",
       "      <th>2</th>\n",
       "      <td>40</td>\n",
       "      <td>40.0</td>\n",
       "      <td>Chennai</td>\n",
       "      <td>Dermatologists</td>\n",
       "      <td>2</td>\n",
       "      <td>20.0</td>\n",
       "      <td>2</td>\n",
       "    </tr>\n",
       "    <tr>\n",
       "      <th>3</th>\n",
       "      <td>0</td>\n",
       "      <td>0.0</td>\n",
       "      <td>Delhi</td>\n",
       "      <td>Ayurveda</td>\n",
       "      <td>1</td>\n",
       "      <td>0.0</td>\n",
       "      <td>1</td>\n",
       "    </tr>\n",
       "    <tr>\n",
       "      <th>4</th>\n",
       "      <td>16</td>\n",
       "      <td>16.0</td>\n",
       "      <td>Bangalore</td>\n",
       "      <td>Dentist</td>\n",
       "      <td>2</td>\n",
       "      <td>8.0</td>\n",
       "      <td>1</td>\n",
       "    </tr>\n",
       "  </tbody>\n",
       "</table>\n",
       "</div>"
      ],
      "text/plain": [
       "   Experience  Rating      Place           Profile  Qualification_No.  \\\n",
       "0          35    35.0     Mumbai  General Medicine                  1   \n",
       "1          31    31.0  Hyderabad    ENT Specialist                  2   \n",
       "2          40    40.0    Chennai    Dermatologists                  2   \n",
       "3           0     0.0      Delhi          Ayurveda                  1   \n",
       "4          16    16.0  Bangalore           Dentist                  2   \n",
       "\n",
       "   Exp. per Qual.  Misc_info  \n",
       "0            35.0          1  \n",
       "1            15.5          1  \n",
       "2            20.0          2  \n",
       "3             0.0          1  \n",
       "4             8.0          1  "
      ]
     },
     "execution_count": 281,
     "metadata": {},
     "output_type": "execute_result"
    }
   ],
   "source": [
    "test1.head()"
   ]
  },
  {
   "cell_type": "code",
   "execution_count": 282,
   "metadata": {
    "scrolled": true
   },
   "outputs": [],
   "source": [
    "train1['Rating. per Qual.']=((train1['Rating']*0.01)/train1['Qualification_No.'])\n",
    "test1['Rating. per Qual.']=((test1['Rating']*0.01)/test1['Qualification_No.'])"
   ]
  },
  {
   "cell_type": "code",
   "execution_count": 283,
   "metadata": {
    "scrolled": false
   },
   "outputs": [
    {
     "data": {
      "text/html": [
       "<div>\n",
       "<style scoped>\n",
       "    .dataframe tbody tr th:only-of-type {\n",
       "        vertical-align: middle;\n",
       "    }\n",
       "\n",
       "    .dataframe tbody tr th {\n",
       "        vertical-align: top;\n",
       "    }\n",
       "\n",
       "    .dataframe thead th {\n",
       "        text-align: right;\n",
       "    }\n",
       "</style>\n",
       "<table border=\"1\" class=\"dataframe\">\n",
       "  <thead>\n",
       "    <tr style=\"text-align: right;\">\n",
       "      <th></th>\n",
       "      <th>Experience</th>\n",
       "      <th>Rating</th>\n",
       "      <th>Place</th>\n",
       "      <th>Profile</th>\n",
       "      <th>Fees</th>\n",
       "      <th>Qualification_No.</th>\n",
       "      <th>Exp. per Qual.</th>\n",
       "      <th>Misc_info</th>\n",
       "      <th>Rating. per Qual.</th>\n",
       "    </tr>\n",
       "  </thead>\n",
       "  <tbody>\n",
       "    <tr>\n",
       "      <th>0</th>\n",
       "      <td>24</td>\n",
       "      <td>24.0</td>\n",
       "      <td>Ernakulam</td>\n",
       "      <td>Homeopath</td>\n",
       "      <td>100</td>\n",
       "      <td>2</td>\n",
       "      <td>12.0</td>\n",
       "      <td>2</td>\n",
       "      <td>0.120</td>\n",
       "    </tr>\n",
       "    <tr>\n",
       "      <th>1</th>\n",
       "      <td>12</td>\n",
       "      <td>12.0</td>\n",
       "      <td>Bangalore</td>\n",
       "      <td>Ayurveda</td>\n",
       "      <td>350</td>\n",
       "      <td>2</td>\n",
       "      <td>6.0</td>\n",
       "      <td>2</td>\n",
       "      <td>0.060</td>\n",
       "    </tr>\n",
       "    <tr>\n",
       "      <th>2</th>\n",
       "      <td>9</td>\n",
       "      <td>9.0</td>\n",
       "      <td>Bangalore</td>\n",
       "      <td>ENT Specialist</td>\n",
       "      <td>300</td>\n",
       "      <td>2</td>\n",
       "      <td>4.5</td>\n",
       "      <td>1</td>\n",
       "      <td>0.045</td>\n",
       "    </tr>\n",
       "    <tr>\n",
       "      <th>3</th>\n",
       "      <td>12</td>\n",
       "      <td>12.0</td>\n",
       "      <td>Bangalore</td>\n",
       "      <td>Ayurveda</td>\n",
       "      <td>250</td>\n",
       "      <td>2</td>\n",
       "      <td>6.0</td>\n",
       "      <td>3</td>\n",
       "      <td>0.060</td>\n",
       "    </tr>\n",
       "    <tr>\n",
       "      <th>4</th>\n",
       "      <td>20</td>\n",
       "      <td>20.0</td>\n",
       "      <td>Chennai</td>\n",
       "      <td>Ayurveda</td>\n",
       "      <td>250</td>\n",
       "      <td>1</td>\n",
       "      <td>20.0</td>\n",
       "      <td>2</td>\n",
       "      <td>0.200</td>\n",
       "    </tr>\n",
       "  </tbody>\n",
       "</table>\n",
       "</div>"
      ],
      "text/plain": [
       "   Experience  Rating      Place         Profile  Fees  Qualification_No.  \\\n",
       "0          24    24.0  Ernakulam       Homeopath   100                  2   \n",
       "1          12    12.0  Bangalore        Ayurveda   350                  2   \n",
       "2           9     9.0  Bangalore  ENT Specialist   300                  2   \n",
       "3          12    12.0  Bangalore        Ayurveda   250                  2   \n",
       "4          20    20.0    Chennai        Ayurveda   250                  1   \n",
       "\n",
       "   Exp. per Qual.  Misc_info  Rating. per Qual.  \n",
       "0            12.0          2              0.120  \n",
       "1             6.0          2              0.060  \n",
       "2             4.5          1              0.045  \n",
       "3             6.0          3              0.060  \n",
       "4            20.0          2              0.200  "
      ]
     },
     "execution_count": 283,
     "metadata": {},
     "output_type": "execute_result"
    }
   ],
   "source": [
    "train1.head()"
   ]
  },
  {
   "cell_type": "code",
   "execution_count": 284,
   "metadata": {
    "scrolled": false
   },
   "outputs": [
    {
     "data": {
      "text/plain": [
       "Dentist             1397\n",
       "General Medicine    1173\n",
       "Dermatologists      1034\n",
       "Homeopath            843\n",
       "Ayurveda             786\n",
       "ENT Specialist       728\n",
       "Name: Profile, dtype: int64"
      ]
     },
     "execution_count": 284,
     "metadata": {},
     "output_type": "execute_result"
    }
   ],
   "source": [
    "train1['Profile'].value_counts()"
   ]
  },
  {
   "cell_type": "code",
   "execution_count": 285,
   "metadata": {},
   "outputs": [],
   "source": [
    "le=LabelEncoder()\n",
    "train1['Place']=le.fit_transform(train1['Place'])\n",
    "train1['Profile']=le.fit_transform(train1['Profile'])\n",
    "#test1['Grade']=le.fit_transform(test1['Grade'])\n",
    "#train1['Grade']=le.fit_transform(train1['Grade'])\n",
    "test1['Place']=le.fit_transform(test1['Place'])\n",
    "test1['Profile']=le.fit_transform(test1['Profile'])"
   ]
  },
  {
   "cell_type": "code",
   "execution_count": 286,
   "metadata": {},
   "outputs": [],
   "source": [
    "#train1['Dentist Degree']=le.fit_transform(train1['Dentist Degree'])\n",
    "#train1['Homeopath']=le.fit_transform(train1['Homeopath'])\n",
    "#train1['Ayurveda']=le.fit_transform(train1['Ayurveda'])\n",
    "#train1['ENT Specialist']=le.fit_transform(train1['ENT Specialist'])\n",
    "#train1['General Medicine']=le.fit_transform(train1['General Medicine'])\n",
    "#train1['Dermatologist']=le.fit_transform(train1['Dermatologist'])"
   ]
  },
  {
   "cell_type": "code",
   "execution_count": 287,
   "metadata": {},
   "outputs": [],
   "source": [
    "#test1['Dentist Degree']=le.fit_transform(test1['Dentist Degree'])\n",
    "#test1['Homeopath']=le.fit_transform(test1['Homeopath'])\n",
    "#test1['Ayurveda']=le.fit_transform(test1['Ayurveda'])\n",
    "#test1['ENT Specialist']=le.fit_transform(test1['ENT Specialist'])\n",
    "#test1['General Medicine']=le.fit_transform(test1['General Medicine'])\n",
    "#test1['Dermatologist']=le.fit_transform(test1['Dermatologist'])\n",
    "\n"
   ]
  },
  {
   "cell_type": "code",
   "execution_count": 288,
   "metadata": {},
   "outputs": [],
   "source": [
    "label=train1['Fees']\n",
    "train1.drop(columns=['Fees'],inplace=True)"
   ]
  },
  {
   "cell_type": "code",
   "execution_count": null,
   "metadata": {},
   "outputs": [],
   "source": []
  },
  {
   "cell_type": "code",
   "execution_count": 289,
   "metadata": {},
   "outputs": [
    {
     "name": "stderr",
     "output_type": "stream",
     "text": [
      "E:\\New folder\\lib\\site-packages\\sklearn\\utils\\validation.py:595: DataConversionWarning: Data with input dtype int64 was converted to float64 by StandardScaler.\n",
      "  warnings.warn(msg, DataConversionWarning)\n",
      "E:\\New folder\\lib\\site-packages\\sklearn\\utils\\validation.py:595: DataConversionWarning: Data with input dtype int64 was converted to float64 by StandardScaler.\n",
      "  warnings.warn(msg, DataConversionWarning)\n",
      "E:\\New folder\\lib\\site-packages\\sklearn\\utils\\validation.py:595: DataConversionWarning: Data with input dtype int64 was converted to float64 by StandardScaler.\n",
      "  warnings.warn(msg, DataConversionWarning)\n",
      "E:\\New folder\\lib\\site-packages\\sklearn\\utils\\validation.py:595: DataConversionWarning: Data with input dtype int64 was converted to float64 by StandardScaler.\n",
      "  warnings.warn(msg, DataConversionWarning)\n",
      "E:\\New folder\\lib\\site-packages\\sklearn\\utils\\validation.py:595: DataConversionWarning: Data with input dtype int64 was converted to float64 by StandardScaler.\n",
      "  warnings.warn(msg, DataConversionWarning)\n",
      "E:\\New folder\\lib\\site-packages\\sklearn\\utils\\validation.py:595: DataConversionWarning: Data with input dtype int64 was converted to float64 by StandardScaler.\n",
      "  warnings.warn(msg, DataConversionWarning)\n",
      "E:\\New folder\\lib\\site-packages\\sklearn\\utils\\validation.py:595: DataConversionWarning: Data with input dtype int64 was converted to float64 by StandardScaler.\n",
      "  warnings.warn(msg, DataConversionWarning)\n",
      "E:\\New folder\\lib\\site-packages\\sklearn\\utils\\validation.py:595: DataConversionWarning: Data with input dtype int64 was converted to float64 by StandardScaler.\n",
      "  warnings.warn(msg, DataConversionWarning)\n",
      "E:\\New folder\\lib\\site-packages\\sklearn\\utils\\validation.py:595: DataConversionWarning: Data with input dtype int64 was converted to float64 by StandardScaler.\n",
      "  warnings.warn(msg, DataConversionWarning)\n",
      "E:\\New folder\\lib\\site-packages\\sklearn\\utils\\validation.py:595: DataConversionWarning: Data with input dtype int64 was converted to float64 by StandardScaler.\n",
      "  warnings.warn(msg, DataConversionWarning)\n"
     ]
    }
   ],
   "source": [
    "stsc=StandardScaler()\n",
    "train1['Experience']=stsc.fit_transform(train1['Experience'].values.reshape(-1,1))\n",
    "test1['Experience']=stsc.fit_transform(test1['Experience'].values.reshape(-1,1))\n",
    "train1['Rating']=stsc.fit_transform(train1['Rating'].values.reshape(-1,1))\n",
    "test1['Rating']=stsc.fit_transform(test1['Rating'].values.reshape(-1,1))\n",
    "#test1['Grade']=stsc.fit_transform(test1['Grade'].values.reshape(-1,1))\n",
    "#train1['Grade']=stsc.fit_transform(train1['Grade'].values.reshape(-1,1))\n",
    "train1['Qualification_No.']=stsc.fit_transform(train1['Qualification_No.'].values.reshape(-1,1))\n",
    "test1['Qualification_No.']=stsc.fit_transform(test1['Qualification_No.'].values.reshape(-1,1))\n",
    "train1['Exp. per Qual.']=stsc.fit_transform(train1['Exp. per Qual.'].values.reshape(-1,1))\n",
    "test1['Exp. per Qual.']=stsc.fit_transform(test1['Exp. per Qual.'].values.reshape(-1,1))\n",
    "train1['Rating. per Qual.']=stsc.fit_transform(train1['Rating. per Qual.'].values.reshape(-1,1))\n",
    "train1['Misc_info']=stsc.fit_transform(train1['Misc_info'].values.reshape(-1,1))\n",
    "#test1['Rating. per Qual.']=stsc.fit_transform(test1['Rating. per Qual.'].values.reshape(-1,1))\n",
    "#train1['Rate_log_error']=stsc.fit_transform(train1['Rate_log_error'].values.reshape(-1,1))\n",
    "#test1['Rate_log_error']=stsc.fit_transform(test1['Rate_log_error'].values.reshape(-1,1))"
   ]
  },
  {
   "cell_type": "code",
   "execution_count": 290,
   "metadata": {},
   "outputs": [
    {
     "data": {
      "text/plain": [
       "1.000083889098767"
      ]
     },
     "execution_count": 290,
     "metadata": {},
     "output_type": "execute_result"
    }
   ],
   "source": [
    "train1['Experience'].std()"
   ]
  },
  {
   "cell_type": "code",
   "execution_count": 291,
   "metadata": {},
   "outputs": [
    {
     "data": {
      "text/plain": [
       "1.0000838890987578"
      ]
     },
     "execution_count": 291,
     "metadata": {},
     "output_type": "execute_result"
    }
   ],
   "source": [
    "train1.Rating.std()"
   ]
  },
  {
   "cell_type": "code",
   "execution_count": 292,
   "metadata": {},
   "outputs": [
    {
     "data": {
      "text/html": [
       "<div>\n",
       "<style scoped>\n",
       "    .dataframe tbody tr th:only-of-type {\n",
       "        vertical-align: middle;\n",
       "    }\n",
       "\n",
       "    .dataframe tbody tr th {\n",
       "        vertical-align: top;\n",
       "    }\n",
       "\n",
       "    .dataframe thead th {\n",
       "        text-align: right;\n",
       "    }\n",
       "</style>\n",
       "<table border=\"1\" class=\"dataframe\">\n",
       "  <thead>\n",
       "    <tr style=\"text-align: right;\">\n",
       "      <th></th>\n",
       "      <th>Experience</th>\n",
       "      <th>Rating</th>\n",
       "      <th>Place</th>\n",
       "      <th>Profile</th>\n",
       "      <th>Qualification_No.</th>\n",
       "      <th>Exp. per Qual.</th>\n",
       "      <th>Misc_info</th>\n",
       "      <th>Rating. per Qual.</th>\n",
       "    </tr>\n",
       "  </thead>\n",
       "  <tbody>\n",
       "    <tr>\n",
       "      <th>0</th>\n",
       "      <td>0.608375</td>\n",
       "      <td>0.600979</td>\n",
       "      <td>4</td>\n",
       "      <td>5</td>\n",
       "      <td>0.008954</td>\n",
       "      <td>0.155792</td>\n",
       "      <td>1.436034</td>\n",
       "      <td>0.155624</td>\n",
       "    </tr>\n",
       "    <tr>\n",
       "      <th>1</th>\n",
       "      <td>-0.476030</td>\n",
       "      <td>-0.476040</td>\n",
       "      <td>0</td>\n",
       "      <td>0</td>\n",
       "      <td>0.008954</td>\n",
       "      <td>-0.503596</td>\n",
       "      <td>1.436034</td>\n",
       "      <td>-0.503823</td>\n",
       "    </tr>\n",
       "    <tr>\n",
       "      <th>2</th>\n",
       "      <td>-0.747132</td>\n",
       "      <td>-0.745295</td>\n",
       "      <td>0</td>\n",
       "      <td>3</td>\n",
       "      <td>0.008954</td>\n",
       "      <td>-0.668443</td>\n",
       "      <td>-0.621212</td>\n",
       "      <td>-0.668685</td>\n",
       "    </tr>\n",
       "    <tr>\n",
       "      <th>3</th>\n",
       "      <td>-0.476030</td>\n",
       "      <td>-0.476040</td>\n",
       "      <td>0</td>\n",
       "      <td>0</td>\n",
       "      <td>0.008954</td>\n",
       "      <td>-0.503596</td>\n",
       "      <td>3.493280</td>\n",
       "      <td>-0.503823</td>\n",
       "    </tr>\n",
       "    <tr>\n",
       "      <th>4</th>\n",
       "      <td>0.246906</td>\n",
       "      <td>0.241972</td>\n",
       "      <td>1</td>\n",
       "      <td>0</td>\n",
       "      <td>-1.037591</td>\n",
       "      <td>1.034975</td>\n",
       "      <td>1.436034</td>\n",
       "      <td>1.034887</td>\n",
       "    </tr>\n",
       "  </tbody>\n",
       "</table>\n",
       "</div>"
      ],
      "text/plain": [
       "   Experience    Rating  Place  Profile  Qualification_No.  Exp. per Qual.  \\\n",
       "0    0.608375  0.600979      4        5           0.008954        0.155792   \n",
       "1   -0.476030 -0.476040      0        0           0.008954       -0.503596   \n",
       "2   -0.747132 -0.745295      0        3           0.008954       -0.668443   \n",
       "3   -0.476030 -0.476040      0        0           0.008954       -0.503596   \n",
       "4    0.246906  0.241972      1        0          -1.037591        1.034975   \n",
       "\n",
       "   Misc_info  Rating. per Qual.  \n",
       "0   1.436034           0.155624  \n",
       "1   1.436034          -0.503823  \n",
       "2  -0.621212          -0.668685  \n",
       "3   3.493280          -0.503823  \n",
       "4   1.436034           1.034887  "
      ]
     },
     "execution_count": 292,
     "metadata": {},
     "output_type": "execute_result"
    }
   ],
   "source": [
    "train1.head()"
   ]
  },
  {
   "cell_type": "code",
   "execution_count": 293,
   "metadata": {
    "scrolled": true
   },
   "outputs": [
    {
     "data": {
      "text/plain": [
       "Experience           0\n",
       "Rating               0\n",
       "Place                0\n",
       "Profile              0\n",
       "Qualification_No.    0\n",
       "Exp. per Qual.       0\n",
       "Misc_info            0\n",
       "Rating. per Qual.    0\n",
       "dtype: int64"
      ]
     },
     "execution_count": 293,
     "metadata": {},
     "output_type": "execute_result"
    }
   ],
   "source": [
    "train1.isnull().sum()"
   ]
  },
  {
   "cell_type": "code",
   "execution_count": 294,
   "metadata": {},
   "outputs": [
    {
     "data": {
      "text/plain": [
       "Experience           0\n",
       "Rating               0\n",
       "Place                0\n",
       "Profile              0\n",
       "Qualification_No.    0\n",
       "Exp. per Qual.       0\n",
       "Misc_info            0\n",
       "Rating. per Qual.    0\n",
       "dtype: int64"
      ]
     },
     "execution_count": 294,
     "metadata": {},
     "output_type": "execute_result"
    }
   ],
   "source": [
    "test1.isnull().sum()"
   ]
  },
  {
   "cell_type": "code",
   "execution_count": null,
   "metadata": {},
   "outputs": [],
   "source": []
  },
  {
   "cell_type": "code",
   "execution_count": 295,
   "metadata": {},
   "outputs": [],
   "source": [
    "#train1['min'] = np.min(train1, axis =1)\n",
    "#train1['max'] = np.max(train1, axis =1)\n",
    "#train1['mean'] = np.mean(train1, axis =1)\n",
    "#train1['median'] = np.median(train1, axis =1)\n",
    "#train1['skew'] = train1.skew(axis = 1)\n",
    "#train1['kurt'] = train1.kurt(axis = 1)"
   ]
  },
  {
   "cell_type": "markdown",
   "metadata": {},
   "source": [
    "# ML"
   ]
  },
  {
   "cell_type": "code",
   "execution_count": 296,
   "metadata": {},
   "outputs": [],
   "source": [
    "def metric(y_act, y_pred):\n",
    "    return(1-(np.sqrt(np.mean((np.log10(y_act) - np.log10(y_pred))**2))))\n",
    "\n",
    "from sklearn.metrics import make_scorer\n",
    "my_metric = make_scorer(metric, greater_is_better=False)"
   ]
  },
  {
   "cell_type": "code",
   "execution_count": 297,
   "metadata": {},
   "outputs": [],
   "source": [
    "xtrain,xtest,ytrain,ytest=train_test_split(train1,label,test_size=0.2,random_state=100)"
   ]
  },
  {
   "cell_type": "code",
   "execution_count": 298,
   "metadata": {},
   "outputs": [],
   "source": [
    "lin_reg=LinearRegression()\n",
    "dst_reg=DecisionTreeRegressor()\n",
    "rnd_reg=RandomForestRegressor()\n",
    "ada_reg=AdaBoostRegressor()\n",
    "ext_reg=ExtraTreesRegressor()\n",
    "svm=SVR()\n",
    "gdb_reg=GradientBoostingRegressor()\n",
    "rid_reg=Ridge(alpha=1.5)\n",
    "las_reg=Lasso(alpha=1.5)"
   ]
  },
  {
   "cell_type": "code",
   "execution_count": 299,
   "metadata": {},
   "outputs": [
    {
     "data": {
      "text/plain": [
       "LinearRegression(copy_X=True, fit_intercept=True, n_jobs=None,\n",
       "         normalize=False)"
      ]
     },
     "execution_count": 299,
     "metadata": {},
     "output_type": "execute_result"
    }
   ],
   "source": [
    "lin_reg.fit(xtrain,ytrain)"
   ]
  },
  {
   "cell_type": "code",
   "execution_count": 300,
   "metadata": {},
   "outputs": [],
   "source": [
    "lin_pred=lin_reg.predict(xtest)"
   ]
  },
  {
   "cell_type": "code",
   "execution_count": 301,
   "metadata": {},
   "outputs": [],
   "source": [
    "cv_lin=cross_val_score(lin_reg,xtrain,ytrain,scoring= my_metric,cv=5)"
   ]
  },
  {
   "cell_type": "code",
   "execution_count": 302,
   "metadata": {},
   "outputs": [
    {
     "data": {
      "text/plain": [
       "array([0.69716875, 0.70151036, 0.70197323, 0.71360351, 0.70851836])"
      ]
     },
     "execution_count": 302,
     "metadata": {},
     "output_type": "execute_result"
    }
   ],
   "source": [
    "-cv_lin"
   ]
  },
  {
   "cell_type": "code",
   "execution_count": 303,
   "metadata": {},
   "outputs": [
    {
     "data": {
      "text/plain": [
       "-0.7045548423575501"
      ]
     },
     "execution_count": 303,
     "metadata": {},
     "output_type": "execute_result"
    }
   ],
   "source": [
    "cv_lin.mean()"
   ]
  },
  {
   "cell_type": "code",
   "execution_count": 304,
   "metadata": {},
   "outputs": [
    {
     "data": {
      "text/plain": [
       "0.7045554937079712"
      ]
     },
     "execution_count": 304,
     "metadata": {},
     "output_type": "execute_result"
    }
   ],
   "source": [
    "-cross_val_score(rid_reg,xtrain,ytrain,scoring=my_metric,cv=5).mean()"
   ]
  },
  {
   "cell_type": "code",
   "execution_count": 305,
   "metadata": {},
   "outputs": [
    {
     "data": {
      "text/plain": [
       "0.703973985822055"
      ]
     },
     "execution_count": 305,
     "metadata": {},
     "output_type": "execute_result"
    }
   ],
   "source": [
    "-cross_val_score(las_reg,xtrain,ytrain,scoring=my_metric,cv=5).mean()"
   ]
  },
  {
   "cell_type": "code",
   "execution_count": null,
   "metadata": {},
   "outputs": [],
   "source": []
  },
  {
   "cell_type": "code",
   "execution_count": 306,
   "metadata": {},
   "outputs": [
    {
     "data": {
      "text/plain": [
       "0.6533536351270628"
      ]
     },
     "execution_count": 306,
     "metadata": {},
     "output_type": "execute_result"
    }
   ],
   "source": [
    "(-cross_val_score(dst_reg,xtrain,ytrain,scoring=my_metric,cv=5)).mean()"
   ]
  },
  {
   "cell_type": "code",
   "execution_count": 307,
   "metadata": {},
   "outputs": [
    {
     "name": "stderr",
     "output_type": "stream",
     "text": [
      "E:\\New folder\\lib\\site-packages\\sklearn\\ensemble\\forest.py:246: FutureWarning: The default value of n_estimators will change from 10 in version 0.20 to 100 in 0.22.\n",
      "  \"10 in version 0.20 to 100 in 0.22.\", FutureWarning)\n",
      "E:\\New folder\\lib\\site-packages\\sklearn\\ensemble\\forest.py:246: FutureWarning: The default value of n_estimators will change from 10 in version 0.20 to 100 in 0.22.\n",
      "  \"10 in version 0.20 to 100 in 0.22.\", FutureWarning)\n",
      "E:\\New folder\\lib\\site-packages\\sklearn\\ensemble\\forest.py:246: FutureWarning: The default value of n_estimators will change from 10 in version 0.20 to 100 in 0.22.\n",
      "  \"10 in version 0.20 to 100 in 0.22.\", FutureWarning)\n",
      "E:\\New folder\\lib\\site-packages\\sklearn\\ensemble\\forest.py:246: FutureWarning: The default value of n_estimators will change from 10 in version 0.20 to 100 in 0.22.\n",
      "  \"10 in version 0.20 to 100 in 0.22.\", FutureWarning)\n",
      "E:\\New folder\\lib\\site-packages\\sklearn\\ensemble\\forest.py:246: FutureWarning: The default value of n_estimators will change from 10 in version 0.20 to 100 in 0.22.\n",
      "  \"10 in version 0.20 to 100 in 0.22.\", FutureWarning)\n"
     ]
    },
    {
     "data": {
      "text/plain": [
       "0.6982024051276086"
      ]
     },
     "execution_count": 307,
     "metadata": {},
     "output_type": "execute_result"
    }
   ],
   "source": [
    "(-cross_val_score(rnd_reg,xtrain,ytrain,scoring=my_metric,cv=5)).mean()"
   ]
  },
  {
   "cell_type": "code",
   "execution_count": 308,
   "metadata": {},
   "outputs": [
    {
     "data": {
      "text/plain": [
       "0.6977485064605133"
      ]
     },
     "execution_count": 308,
     "metadata": {},
     "output_type": "execute_result"
    }
   ],
   "source": [
    "(-cross_val_score(ada_reg,xtrain,ytrain,scoring=my_metric,cv=5)).mean()"
   ]
  },
  {
   "cell_type": "code",
   "execution_count": 309,
   "metadata": {},
   "outputs": [
    {
     "name": "stderr",
     "output_type": "stream",
     "text": [
      "E:\\New folder\\lib\\site-packages\\sklearn\\ensemble\\forest.py:246: FutureWarning: The default value of n_estimators will change from 10 in version 0.20 to 100 in 0.22.\n",
      "  \"10 in version 0.20 to 100 in 0.22.\", FutureWarning)\n",
      "E:\\New folder\\lib\\site-packages\\sklearn\\ensemble\\forest.py:246: FutureWarning: The default value of n_estimators will change from 10 in version 0.20 to 100 in 0.22.\n",
      "  \"10 in version 0.20 to 100 in 0.22.\", FutureWarning)\n",
      "E:\\New folder\\lib\\site-packages\\sklearn\\ensemble\\forest.py:246: FutureWarning: The default value of n_estimators will change from 10 in version 0.20 to 100 in 0.22.\n",
      "  \"10 in version 0.20 to 100 in 0.22.\", FutureWarning)\n",
      "E:\\New folder\\lib\\site-packages\\sklearn\\ensemble\\forest.py:246: FutureWarning: The default value of n_estimators will change from 10 in version 0.20 to 100 in 0.22.\n",
      "  \"10 in version 0.20 to 100 in 0.22.\", FutureWarning)\n",
      "E:\\New folder\\lib\\site-packages\\sklearn\\ensemble\\forest.py:246: FutureWarning: The default value of n_estimators will change from 10 in version 0.20 to 100 in 0.22.\n",
      "  \"10 in version 0.20 to 100 in 0.22.\", FutureWarning)\n"
     ]
    },
    {
     "data": {
      "text/plain": [
       "0.6774003845775378"
      ]
     },
     "execution_count": 309,
     "metadata": {},
     "output_type": "execute_result"
    }
   ],
   "source": [
    "(-cross_val_score(ext_reg,xtrain,ytrain,scoring=my_metric,cv=5)).mean()"
   ]
  },
  {
   "cell_type": "code",
   "execution_count": 310,
   "metadata": {
    "scrolled": true
   },
   "outputs": [
    {
     "name": "stderr",
     "output_type": "stream",
     "text": [
      "E:\\New folder\\lib\\site-packages\\sklearn\\svm\\base.py:196: FutureWarning: The default value of gamma will change from 'auto' to 'scale' in version 0.22 to account better for unscaled features. Set gamma explicitly to 'auto' or 'scale' to avoid this warning.\n",
      "  \"avoid this warning.\", FutureWarning)\n",
      "E:\\New folder\\lib\\site-packages\\sklearn\\svm\\base.py:196: FutureWarning: The default value of gamma will change from 'auto' to 'scale' in version 0.22 to account better for unscaled features. Set gamma explicitly to 'auto' or 'scale' to avoid this warning.\n",
      "  \"avoid this warning.\", FutureWarning)\n",
      "E:\\New folder\\lib\\site-packages\\sklearn\\svm\\base.py:196: FutureWarning: The default value of gamma will change from 'auto' to 'scale' in version 0.22 to account better for unscaled features. Set gamma explicitly to 'auto' or 'scale' to avoid this warning.\n",
      "  \"avoid this warning.\", FutureWarning)\n",
      "E:\\New folder\\lib\\site-packages\\sklearn\\svm\\base.py:196: FutureWarning: The default value of gamma will change from 'auto' to 'scale' in version 0.22 to account better for unscaled features. Set gamma explicitly to 'auto' or 'scale' to avoid this warning.\n",
      "  \"avoid this warning.\", FutureWarning)\n",
      "E:\\New folder\\lib\\site-packages\\sklearn\\svm\\base.py:196: FutureWarning: The default value of gamma will change from 'auto' to 'scale' in version 0.22 to account better for unscaled features. Set gamma explicitly to 'auto' or 'scale' to avoid this warning.\n",
      "  \"avoid this warning.\", FutureWarning)\n"
     ]
    },
    {
     "data": {
      "text/plain": [
       "0.7159758661090467"
      ]
     },
     "execution_count": 310,
     "metadata": {},
     "output_type": "execute_result"
    }
   ],
   "source": [
    "(-cross_val_score(svm,xtrain,ytrain,scoring=my_metric,cv=5)).mean()"
   ]
  },
  {
   "cell_type": "code",
   "execution_count": 311,
   "metadata": {},
   "outputs": [
    {
     "data": {
      "text/plain": [
       "GradientBoostingRegressor(alpha=0.9, criterion='friedman_mse', init=None,\n",
       "             learning_rate=0.1, loss='ls', max_depth=3, max_features=None,\n",
       "             max_leaf_nodes=None, min_impurity_decrease=0.0,\n",
       "             min_impurity_split=None, min_samples_leaf=1,\n",
       "             min_samples_split=2, min_weight_fraction_leaf=0.0,\n",
       "             n_estimators=100, n_iter_no_change=None, presort='auto',\n",
       "             random_state=None, subsample=1.0, tol=0.0001,\n",
       "             validation_fraction=0.1, verbose=0, warm_start=False)"
      ]
     },
     "execution_count": 311,
     "metadata": {},
     "output_type": "execute_result"
    }
   ],
   "source": [
    "gdb_reg.fit(xtrain,ytrain)"
   ]
  },
  {
   "cell_type": "code",
   "execution_count": 312,
   "metadata": {},
   "outputs": [
    {
     "data": {
      "text/plain": [
       "-0.7234457451248648"
      ]
     },
     "execution_count": 312,
     "metadata": {},
     "output_type": "execute_result"
    }
   ],
   "source": [
    "cross_val_score(gdb_reg,xtrain,ytrain,scoring=my_metric,cv=5).mean()"
   ]
  },
  {
   "cell_type": "code",
   "execution_count": 313,
   "metadata": {},
   "outputs": [
    {
     "data": {
      "text/plain": [
       "Index(['Experience', 'Rating', 'Place', 'Profile', 'Qualification_No.',\n",
       "       'Exp. per Qual.', 'Misc_info', 'Rating. per Qual.'],\n",
       "      dtype='object')"
      ]
     },
     "execution_count": 313,
     "metadata": {},
     "output_type": "execute_result"
    }
   ],
   "source": [
    "train1.columns"
   ]
  },
  {
   "cell_type": "code",
   "execution_count": 314,
   "metadata": {},
   "outputs": [
    {
     "data": {
      "text/plain": [
       "GradientBoostingRegressor(alpha=0.9, criterion='friedman_mse', init=None,\n",
       "             learning_rate=0.1, loss='ls', max_depth=3, max_features=None,\n",
       "             max_leaf_nodes=None, min_impurity_decrease=0.0,\n",
       "             min_impurity_split=None, min_samples_leaf=1,\n",
       "             min_samples_split=2, min_weight_fraction_leaf=0.0,\n",
       "             n_estimators=100, n_iter_no_change=None, presort='auto',\n",
       "             random_state=None, subsample=1.0, tol=0.0001,\n",
       "             validation_fraction=0.1, verbose=0, warm_start=False)"
      ]
     },
     "execution_count": 314,
     "metadata": {},
     "output_type": "execute_result"
    }
   ],
   "source": [
    "gdb_reg.fit(xtrain,ytrain)"
   ]
  },
  {
   "cell_type": "code",
   "execution_count": 315,
   "metadata": {},
   "outputs": [
    {
     "data": {
      "text/plain": [
       "<matplotlib.axes._subplots.AxesSubplot at 0x232a11480f0>"
      ]
     },
     "execution_count": 315,
     "metadata": {},
     "output_type": "execute_result"
    },
    {
     "data": {
      "image/png": "[encoded data removed]",
      "text/plain": [
       "<Figure size 432x288 with 1 Axes>"
      ]
     },
     "metadata": {
      "needs_background": "light"
     },
     "output_type": "display_data"
    }
   ],
   "source": [
    "pd.Series(gdb_reg.feature_importances_, index = train1.columns).sort_values(ascending=True).plot.barh()"
   ]
  },
  {
   "cell_type": "code",
   "execution_count": 322,
   "metadata": {},
   "outputs": [],
   "source": [
    "test=gdb_reg.predict(test1)"
   ]
  },
  {
   "cell_type": "code",
   "execution_count": 323,
   "metadata": {},
   "outputs": [],
   "source": [
    "test=list(test)"
   ]
  },
  {
   "cell_type": "code",
   "execution_count": 324,
   "metadata": {},
   "outputs": [],
   "source": [
    "test=pd.DataFrame(test)"
   ]
  },
  {
   "cell_type": "code",
   "execution_count": 325,
   "metadata": {},
   "outputs": [],
   "source": [
    "test.rename(columns={0:'Fees'},inplace=True)"
   ]
  },
  {
   "cell_type": "code",
   "execution_count": 326,
   "metadata": {},
   "outputs": [],
   "source": [
    "test.to_excel('Submit_gdb.xlsx')"
   ]
  },
  {
   "cell_type": "code",
   "execution_count": 321,
   "metadata": {},
   "outputs": [],
   "source": [
    "#test"
   ]
  },
  {
   "cell_type": "code",
   "execution_count": null,
   "metadata": {},
   "outputs": [],
   "source": []
  },
  {
   "cell_type": "code",
   "execution_count": null,
   "metadata": {},
   "outputs": [],
   "source": []
  }
 ],
 "metadata": {
  "kernelspec": {
   "display_name": "Python 3",
   "language": "python",
   "name": "python3"
  },
  "language_info": {
   "codemirror_mode": {
    "name": "ipython",
    "version": 3
   },
   "file_extension": ".py",
   "mimetype": "text/x-python",
   "name": "python",
   "nbconvert_exporter": "python",
   "pygments_lexer": "ipython3",
   "version": "3.7.1"
  }
 },
 "nbformat": 4,
 "nbformat_minor": 2
}
